{
 "cells": [
  {
   "cell_type": "markdown",
   "metadata": {
    "id": "u98L9TgH0eMk"
   },
   "source": [
    "# Разработка A/B-тестирования рекомендательной системы\n",
    "\n",
    "Рассмотрим компанию, которая разрабатывает развлекательное приложение с функцией «бесконечной» ленты, как, например, в приложениях с короткими видео. В нашем приложении существует две модели монетизации: первая — ежемесячная платная подписка, которая позволяет пользователям смотреть ленту без рекламы, вторая — демонстрация рекламы для пользователей, которые ещё не оформили подписку.\n",
    "\n",
    "Команда разработчиков рекомендательных систем создала новый алгоритм рекомендаций, который, по их мнению, будет показывать более интересный контент для каждого пользователя. Необходимо рассчитать параметры A/B-теста, который позволит проверить эту гипотезу, и проанализировать его результаты."
   ]
  },
  {
   "cell_type": "markdown",
   "metadata": {
    "id": "LJBRALHs0eMf"
   },
   "source": [
    "## Описание данных\n",
    "\n",
    "Даны таблицы:\n",
    "\n",
    "- `sessions_project_history.csv` — таблица с историческими данными по сессиям пользователей на период с 2025-08-11 по 2025-09-23. Путь к файлу: `/datasets/sessions_project_history.csv`.\n",
    "\n",
    "- `sessions_project_test_part.csv` — таблица с данными за первый день проведения A/B-теста, то есть за 2025-10-14. Путь к файлу: `/datasets/sessions_project_test_part.csv`.\n",
    "\n",
    "- `sessions_project_test.csv` — таблица с данными за весь период проведения A/B-теста, то есть с 2025-10-14 по 2025-11-02. Путь к файлу: `/datasets/sessions_project_test.csv`.\n",
    "\n",
    "У этих таблиц почти совпадает структура и содержание колонок, различаются лишь периоды наблюдения.\n",
    "\n",
    "Поля таблиц `sessions_project_history.csv`, `sessions_project_test.csv`, `sessions_project_test_part.csv`:\n",
    "\n",
    "- `user_id` — идентификатор пользователя;\n",
    "\n",
    "- `session_id` — идентификатор сессии в приложении;\n",
    "\n",
    "- `session_date` — дата сессии;\n",
    "\n",
    "- `session_start_ts` — дата и время начала сессии;\n",
    "\n",
    "- `install_date` — дата установки приложения;\n",
    "\n",
    "- `session_number` — порядковый номер сессии для конкретного пользователя;\n",
    "\n",
    "- `registration_flag` — является ли пользователь зарегистрированным;\n",
    "\n",
    "- `page_counter` — количество просмотренных страниц во время сессии;\n",
    "\n",
    "- `region` — регион пользователя;\n",
    "\n",
    "- `device` — тип устройства пользователя;\n",
    "\n",
    "- `test_group` — тестовая группа (в таблице с историческими данными этого столбца нет).\n",
    "\n",
    "\n",
    "## Что нужно сделать\n",
    "Рассчитать параметры теста, оценить корректность его проведения и проанализировать результаты эксперимента."
   ]
  },
  {
   "cell_type": "markdown",
   "metadata": {
    "id": "UpOucjID0eMl"
   },
   "source": [
    "### 1. Работа с историческими данными (EDA)"
   ]
  },
  {
   "cell_type": "markdown",
   "metadata": {
    "id": "8iJMtL-30eMl"
   },
   "source": [
    "На первом этапе поработайте с историческими данными приложения:"
   ]
  },
  {
   "cell_type": "code",
   "execution_count": null,
   "metadata": {
    "id": "6TPR2-1RPboT"
   },
   "outputs": [
    {
     "data": {
      "text/html": [
       "<div>\n",
       "<style scoped>\n",
       "    .dataframe tbody tr th:only-of-type {\n",
       "        vertical-align: middle;\n",
       "    }\n",
       "\n",
       "    .dataframe tbody tr th {\n",
       "        vertical-align: top;\n",
       "    }\n",
       "\n",
       "    .dataframe thead th {\n",
       "        text-align: right;\n",
       "    }\n",
       "</style>\n",
       "<table border=\"1\" class=\"dataframe\">\n",
       "  <thead>\n",
       "    <tr style=\"text-align: right;\">\n",
       "      <th></th>\n",
       "      <th>user_id</th>\n",
       "      <th>session_id</th>\n",
       "      <th>session_date</th>\n",
       "      <th>session_start_ts</th>\n",
       "      <th>install_date</th>\n",
       "      <th>session_number</th>\n",
       "      <th>registration_flag</th>\n",
       "      <th>page_counter</th>\n",
       "      <th>region</th>\n",
       "      <th>device</th>\n",
       "    </tr>\n",
       "  </thead>\n",
       "  <tbody>\n",
       "    <tr>\n",
       "      <th>0</th>\n",
       "      <td>E302123B7000BFE4</td>\n",
       "      <td>F9AF61A0C2023832</td>\n",
       "      <td>2025-08-15</td>\n",
       "      <td>2025-08-15 17:47:35</td>\n",
       "      <td>2025-08-15</td>\n",
       "      <td>1</td>\n",
       "      <td>0</td>\n",
       "      <td>3</td>\n",
       "      <td>CIS</td>\n",
       "      <td>iPhone</td>\n",
       "    </tr>\n",
       "    <tr>\n",
       "      <th>1</th>\n",
       "      <td>2530F72E221829FB</td>\n",
       "      <td>85003A206CBDAC6F</td>\n",
       "      <td>2025-08-15</td>\n",
       "      <td>2025-08-15 16:42:14</td>\n",
       "      <td>2025-08-15</td>\n",
       "      <td>1</td>\n",
       "      <td>0</td>\n",
       "      <td>4</td>\n",
       "      <td>MENA</td>\n",
       "      <td>Android</td>\n",
       "    </tr>\n",
       "    <tr>\n",
       "      <th>2</th>\n",
       "      <td>876E020A4FC512F5</td>\n",
       "      <td>3677423E49D72DEE</td>\n",
       "      <td>2025-08-15</td>\n",
       "      <td>2025-08-15 12:30:00</td>\n",
       "      <td>2025-08-15</td>\n",
       "      <td>1</td>\n",
       "      <td>0</td>\n",
       "      <td>4</td>\n",
       "      <td>EU</td>\n",
       "      <td>PC</td>\n",
       "    </tr>\n",
       "    <tr>\n",
       "      <th>3</th>\n",
       "      <td>2640B349E1D81584</td>\n",
       "      <td>956B45F5915CA225</td>\n",
       "      <td>2025-08-15</td>\n",
       "      <td>2025-08-15 15:31:31</td>\n",
       "      <td>2025-08-15</td>\n",
       "      <td>1</td>\n",
       "      <td>0</td>\n",
       "      <td>4</td>\n",
       "      <td>CIS</td>\n",
       "      <td>Android</td>\n",
       "    </tr>\n",
       "    <tr>\n",
       "      <th>4</th>\n",
       "      <td>94E1CBFAEF1F5EE9</td>\n",
       "      <td>83BF0DA35F9F1F40</td>\n",
       "      <td>2025-08-15</td>\n",
       "      <td>2025-08-15 21:33:53</td>\n",
       "      <td>2025-08-15</td>\n",
       "      <td>1</td>\n",
       "      <td>0</td>\n",
       "      <td>3</td>\n",
       "      <td>CIS</td>\n",
       "      <td>Android</td>\n",
       "    </tr>\n",
       "  </tbody>\n",
       "</table>\n",
       "</div>"
      ],
      "text/plain": [
       "            user_id        session_id session_date     session_start_ts  \\\n",
       "0  E302123B7000BFE4  F9AF61A0C2023832   2025-08-15  2025-08-15 17:47:35   \n",
       "1  2530F72E221829FB  85003A206CBDAC6F   2025-08-15  2025-08-15 16:42:14   \n",
       "2  876E020A4FC512F5  3677423E49D72DEE   2025-08-15  2025-08-15 12:30:00   \n",
       "3  2640B349E1D81584  956B45F5915CA225   2025-08-15  2025-08-15 15:31:31   \n",
       "4  94E1CBFAEF1F5EE9  83BF0DA35F9F1F40   2025-08-15  2025-08-15 21:33:53   \n",
       "\n",
       "  install_date  session_number  registration_flag  page_counter region  \\\n",
       "0   2025-08-15               1                  0             3    CIS   \n",
       "1   2025-08-15               1                  0             4   MENA   \n",
       "2   2025-08-15               1                  0             4     EU   \n",
       "3   2025-08-15               1                  0             4    CIS   \n",
       "4   2025-08-15               1                  0             3    CIS   \n",
       "\n",
       "    device  \n",
       "0   iPhone  \n",
       "1  Android  \n",
       "2       PC  \n",
       "3  Android  \n",
       "4  Android  "
      ]
     },
     "execution_count": 1,
     "metadata": {},
     "output_type": "execute_result"
    }
   ],
   "source": [
    "# импортируем pandas, matplotlib, scipy\n",
    "import pandas as pd\n",
    "import matplotlib.pyplot as plt\n",
    "from scipy import stats as st\n",
    "from statsmodels.stats.proportion import proportions_ztest"
   ]
  },
  {
   "cell_type": "code",
   "execution_count": null,
   "metadata": {},
   "outputs": [],
   "source": [
    "# выгружаем данные\n",
    "session_history = pd.read_csv('path/sessions_project_history.csv')\n",
    "\n",
    "session_history.head()"
   ]
  },
  {
   "cell_type": "markdown",
   "metadata": {
    "id": "qTDoiODz0eMo"
   },
   "source": [
    "#### 1.2. Знакомство с данными\n",
    "- Для каждого уникального пользователя `user_id` рассчитаем количество уникальных сессий `session_id`.\n",
    "\n",
    "- Выведем на экран все данные из таблицы `sessions_history` для одного пользователя с наибольшим количеством сессий.\n",
    "\n",
    "- Изучим таблицу для одного пользователя, чтобы лучше понять логику формирования каждого столбца данных.\n",
    "\n"
   ]
  },
  {
   "cell_type": "code",
   "execution_count": 2,
   "metadata": {
    "id": "PWZO9vTIPbPN"
   },
   "outputs": [
    {
     "data": {
      "text/html": [
       "<div>\n",
       "<style scoped>\n",
       "    .dataframe tbody tr th:only-of-type {\n",
       "        vertical-align: middle;\n",
       "    }\n",
       "\n",
       "    .dataframe tbody tr th {\n",
       "        vertical-align: top;\n",
       "    }\n",
       "\n",
       "    .dataframe thead th {\n",
       "        text-align: right;\n",
       "    }\n",
       "</style>\n",
       "<table border=\"1\" class=\"dataframe\">\n",
       "  <thead>\n",
       "    <tr style=\"text-align: right;\">\n",
       "      <th></th>\n",
       "      <th>user_id</th>\n",
       "      <th>session_id</th>\n",
       "      <th>session_date</th>\n",
       "      <th>session_start_ts</th>\n",
       "      <th>install_date</th>\n",
       "      <th>session_number</th>\n",
       "      <th>registration_flag</th>\n",
       "      <th>page_counter</th>\n",
       "      <th>region</th>\n",
       "      <th>device</th>\n",
       "    </tr>\n",
       "  </thead>\n",
       "  <tbody>\n",
       "    <tr>\n",
       "      <th>115558</th>\n",
       "      <td>10E0DEFC1ABDBBE0</td>\n",
       "      <td>B8F0423BBFFCF5DC</td>\n",
       "      <td>2025-08-14</td>\n",
       "      <td>2025-08-14 13:57:39</td>\n",
       "      <td>2025-08-14</td>\n",
       "      <td>1</td>\n",
       "      <td>0</td>\n",
       "      <td>4</td>\n",
       "      <td>CIS</td>\n",
       "      <td>Android</td>\n",
       "    </tr>\n",
       "    <tr>\n",
       "      <th>191751</th>\n",
       "      <td>10E0DEFC1ABDBBE0</td>\n",
       "      <td>87CA2FA549473837</td>\n",
       "      <td>2025-08-15</td>\n",
       "      <td>2025-08-15 16:42:10</td>\n",
       "      <td>2025-08-14</td>\n",
       "      <td>2</td>\n",
       "      <td>0</td>\n",
       "      <td>3</td>\n",
       "      <td>CIS</td>\n",
       "      <td>Android</td>\n",
       "    </tr>\n",
       "    <tr>\n",
       "      <th>239370</th>\n",
       "      <td>10E0DEFC1ABDBBE0</td>\n",
       "      <td>4ADD8011DCDCE318</td>\n",
       "      <td>2025-08-16</td>\n",
       "      <td>2025-08-16 19:53:21</td>\n",
       "      <td>2025-08-14</td>\n",
       "      <td>3</td>\n",
       "      <td>0</td>\n",
       "      <td>3</td>\n",
       "      <td>CIS</td>\n",
       "      <td>Android</td>\n",
       "    </tr>\n",
       "    <tr>\n",
       "      <th>274629</th>\n",
       "      <td>10E0DEFC1ABDBBE0</td>\n",
       "      <td>DF0FD0E09BF1F3D7</td>\n",
       "      <td>2025-08-17</td>\n",
       "      <td>2025-08-17 15:03:43</td>\n",
       "      <td>2025-08-14</td>\n",
       "      <td>4</td>\n",
       "      <td>0</td>\n",
       "      <td>1</td>\n",
       "      <td>CIS</td>\n",
       "      <td>Android</td>\n",
       "    </tr>\n",
       "    <tr>\n",
       "      <th>302501</th>\n",
       "      <td>10E0DEFC1ABDBBE0</td>\n",
       "      <td>3C221774B4DE6885</td>\n",
       "      <td>2025-08-18</td>\n",
       "      <td>2025-08-18 17:29:14</td>\n",
       "      <td>2025-08-14</td>\n",
       "      <td>5</td>\n",
       "      <td>0</td>\n",
       "      <td>4</td>\n",
       "      <td>CIS</td>\n",
       "      <td>Android</td>\n",
       "    </tr>\n",
       "    <tr>\n",
       "      <th>325557</th>\n",
       "      <td>10E0DEFC1ABDBBE0</td>\n",
       "      <td>031BD7A67048105B</td>\n",
       "      <td>2025-08-19</td>\n",
       "      <td>2025-08-19 13:23:55</td>\n",
       "      <td>2025-08-14</td>\n",
       "      <td>6</td>\n",
       "      <td>0</td>\n",
       "      <td>2</td>\n",
       "      <td>CIS</td>\n",
       "      <td>Android</td>\n",
       "    </tr>\n",
       "    <tr>\n",
       "      <th>345336</th>\n",
       "      <td>10E0DEFC1ABDBBE0</td>\n",
       "      <td>FF4315CF4AD4B100</td>\n",
       "      <td>2025-08-20</td>\n",
       "      <td>2025-08-20 19:31:54</td>\n",
       "      <td>2025-08-14</td>\n",
       "      <td>7</td>\n",
       "      <td>0</td>\n",
       "      <td>2</td>\n",
       "      <td>CIS</td>\n",
       "      <td>Android</td>\n",
       "    </tr>\n",
       "    <tr>\n",
       "      <th>377532</th>\n",
       "      <td>10E0DEFC1ABDBBE0</td>\n",
       "      <td>4045FEA0747203B4</td>\n",
       "      <td>2025-08-22</td>\n",
       "      <td>2025-08-22 17:54:13</td>\n",
       "      <td>2025-08-14</td>\n",
       "      <td>8</td>\n",
       "      <td>0</td>\n",
       "      <td>2</td>\n",
       "      <td>CIS</td>\n",
       "      <td>Android</td>\n",
       "    </tr>\n",
       "    <tr>\n",
       "      <th>403538</th>\n",
       "      <td>10E0DEFC1ABDBBE0</td>\n",
       "      <td>344B086C421C7F37</td>\n",
       "      <td>2025-08-24</td>\n",
       "      <td>2025-08-24 14:46:13</td>\n",
       "      <td>2025-08-14</td>\n",
       "      <td>9</td>\n",
       "      <td>0</td>\n",
       "      <td>2</td>\n",
       "      <td>CIS</td>\n",
       "      <td>Android</td>\n",
       "    </tr>\n",
       "    <tr>\n",
       "      <th>414743</th>\n",
       "      <td>10E0DEFC1ABDBBE0</td>\n",
       "      <td>054F20BA371E4C9D</td>\n",
       "      <td>2025-08-25</td>\n",
       "      <td>2025-08-25 18:36:41</td>\n",
       "      <td>2025-08-14</td>\n",
       "      <td>10</td>\n",
       "      <td>0</td>\n",
       "      <td>3</td>\n",
       "      <td>CIS</td>\n",
       "      <td>Android</td>\n",
       "    </tr>\n",
       "  </tbody>\n",
       "</table>\n",
       "</div>"
      ],
      "text/plain": [
       "                 user_id        session_id session_date     session_start_ts  \\\n",
       "115558  10E0DEFC1ABDBBE0  B8F0423BBFFCF5DC   2025-08-14  2025-08-14 13:57:39   \n",
       "191751  10E0DEFC1ABDBBE0  87CA2FA549473837   2025-08-15  2025-08-15 16:42:10   \n",
       "239370  10E0DEFC1ABDBBE0  4ADD8011DCDCE318   2025-08-16  2025-08-16 19:53:21   \n",
       "274629  10E0DEFC1ABDBBE0  DF0FD0E09BF1F3D7   2025-08-17  2025-08-17 15:03:43   \n",
       "302501  10E0DEFC1ABDBBE0  3C221774B4DE6885   2025-08-18  2025-08-18 17:29:14   \n",
       "325557  10E0DEFC1ABDBBE0  031BD7A67048105B   2025-08-19  2025-08-19 13:23:55   \n",
       "345336  10E0DEFC1ABDBBE0  FF4315CF4AD4B100   2025-08-20  2025-08-20 19:31:54   \n",
       "377532  10E0DEFC1ABDBBE0  4045FEA0747203B4   2025-08-22  2025-08-22 17:54:13   \n",
       "403538  10E0DEFC1ABDBBE0  344B086C421C7F37   2025-08-24  2025-08-24 14:46:13   \n",
       "414743  10E0DEFC1ABDBBE0  054F20BA371E4C9D   2025-08-25  2025-08-25 18:36:41   \n",
       "\n",
       "       install_date  session_number  registration_flag  page_counter region  \\\n",
       "115558   2025-08-14               1                  0             4    CIS   \n",
       "191751   2025-08-14               2                  0             3    CIS   \n",
       "239370   2025-08-14               3                  0             3    CIS   \n",
       "274629   2025-08-14               4                  0             1    CIS   \n",
       "302501   2025-08-14               5                  0             4    CIS   \n",
       "325557   2025-08-14               6                  0             2    CIS   \n",
       "345336   2025-08-14               7                  0             2    CIS   \n",
       "377532   2025-08-14               8                  0             2    CIS   \n",
       "403538   2025-08-14               9                  0             2    CIS   \n",
       "414743   2025-08-14              10                  0             3    CIS   \n",
       "\n",
       "         device  \n",
       "115558  Android  \n",
       "191751  Android  \n",
       "239370  Android  \n",
       "274629  Android  \n",
       "302501  Android  \n",
       "325557  Android  \n",
       "345336  Android  \n",
       "377532  Android  \n",
       "403538  Android  \n",
       "414743  Android  "
      ]
     },
     "execution_count": 2,
     "metadata": {},
     "output_type": "execute_result"
    }
   ],
   "source": [
    "# группируем данные и получаем максимальное число сессий\n",
    "users_sessions = session_history.groupby('user_id')['session_id'].count()\n",
    "max_count_session = users_sessions.max()\n",
    "\n",
    "# находим user_id пользователя с макс. кол-вом сессией\n",
    "user_id_with_max_count_session = users_sessions[users_sessions == max_count_session]\n",
    "user_id_with_max_count_session = user_id_with_max_count_session.index[0]\n",
    "\n",
    "# получаем информацию по этому пользователю\n",
    "df_by_user_id_with_max_session = session_history[session_history['user_id'] == user_id_with_max_count_session]\n",
    "df_by_user_id_with_max_session"
   ]
  },
  {
   "cell_type": "markdown",
   "metadata": {
    "id": "CmcGpJTP0eMq"
   },
   "source": [
    "#### 1.3. Анализ числа регистраций\n",
    "Одна из важнейших метрик продукта — число зарегистрированных пользователей. Используя исторические данные, визуализируем, как менялось число регистраций в приложении за время его существования.\n",
    "\n",
    "- Агрегируем исторические данные и рассчитаем число уникальных пользователей и число зарегистрированных пользователей для каждого дня наблюдения. Для простоты будем считать, что у пользователя в течение дня бывает одна сессия максимум и статус регистрации в течение одного дня не может измениться.\n",
    "\n",
    "- Построим линейные графики общего числа пользователей и общего числа зарегистрированных пользователей по дням.\n",
    "\n",
    "- Построим отдельный линейный график доли зарегистрированных пользователей от всех пользователей по дням."
   ]
  },
  {
   "cell_type": "code",
   "execution_count": 3,
   "metadata": {
    "id": "tN_6Ml3EPatS"
   },
   "outputs": [
    {
     "data": {
      "image/png": "[encoded data removed]",
      "text/plain": [
       "<Figure size 1080x360 with 1 Axes>"
      ]
     },
     "metadata": {
      "needs_background": "light"
     },
     "output_type": "display_data"
    }
   ],
   "source": [
    "# находим общее кол-во уникальных пользователей\n",
    "uniq_users = session_history.groupby('session_date')['user_id'].count()\n",
    "\n",
    "# находим зарегистрированных пользователей\n",
    "regisrt_users = session_history[session_history['registration_flag'] == 1]\n",
    "regisrt_users = regisrt_users.groupby('session_date')['user_id'].count()\n",
    "\n",
    "plt.figure(figsize=(15, 5))\n",
    "\n",
    "# первая линия для уникальных пользователей\n",
    "plt.plot(uniq_users, label='Уникальные пользователи')\n",
    "\n",
    "# вторая линия для зарегистрированных пользователей\n",
    "plt.plot(regisrt_users, label='Зарегистрированные пользователи')\n",
    "\n",
    "# оформление графика\n",
    "plt.title('Анализ числа регистраций')\n",
    "plt.xlabel('День')     \n",
    "plt.ylabel('Кол-во пользователей')\n",
    "plt.legend() \n",
    "plt.xticks(rotation=90)\n",
    "plt.grid(True) \n",
    "\n",
    "# Отображение графика\n",
    "plt.show()"
   ]
  },
  {
   "cell_type": "code",
   "execution_count": 4,
   "metadata": {},
   "outputs": [
    {
     "data": {
      "image/png": "[encoded data removed]",
      "text/plain": [
       "<Figure size 1080x360 with 1 Axes>"
      ]
     },
     "metadata": {
      "needs_background": "light"
     },
     "output_type": "display_data"
    }
   ],
   "source": [
    "# находим долю зарегистрированных от общего числа пользователей\n",
    "share_registr_users = regisrt_users / uniq_users * 100\n",
    "\n",
    "plt.figure(figsize=(15, 5))\n",
    "\n",
    "# строим график\n",
    "plt.plot(share_registr_users, label='Доля зарегистрированных пользователей')\n",
    "\n",
    "# оформление графика\n",
    "plt.title('Анализ зарегистрированных пользователей')\n",
    "plt.xlabel('День')     \n",
    "plt.ylabel('Доля пользователей')\n",
    "plt.legend() \n",
    "plt.xticks(rotation=90)\n",
    "plt.grid(True) \n",
    "\n",
    "# Отображение графика\n",
    "plt.show()"
   ]
  },
  {
   "cell_type": "markdown",
   "metadata": {
    "id": "UR7D7RhF0eMr"
   },
   "source": [
    "#### 1.4. Анализ числа просмотренных страниц\n",
    "Другая важная метрика продукта — число просмотренных страниц в приложении. Чем больше страниц просмотрено, тем сильнее пользователь увлечён контентом, а значит, выше шансы, что он зарегистрируется и оплатит подписку.\n",
    "\n",
    "- Найдем количество сессий для каждого значения количества просмотренных страниц. Например: одну страницу просмотрели в 29 160 сессиях, две страницы — в 105 536 сессиях и так далее.\n",
    "\n",
    "- Построим столбчатую диаграмму, где по оси X будет число просмотренных страниц, по оси Y — количество сессий."
   ]
  },
  {
   "cell_type": "code",
   "execution_count": 5,
   "metadata": {
    "id": "cb6hPlVzPaSf"
   },
   "outputs": [
    {
     "data": {
      "image/png": "[encoded data removed]",
      "text/plain": [
       "<Figure size 720x432 with 1 Axes>"
      ]
     },
     "metadata": {
      "needs_background": "light"
     },
     "output_type": "display_data"
    }
   ],
   "source": [
    "# находим кол-во сессий для кол-ва просмотренных страниц\n",
    "page_count = session_history.groupby('page_counter')['session_id'].count()\n",
    "pages = page_count.index\n",
    "sessions = page_count.values\n",
    "\n",
    "# строим столбчатую диаграмму\n",
    "plt.figure(figsize=(10, 6))\n",
    "\n",
    "plt.bar(pages, sessions)\n",
    "\n",
    "plt.title('Кол-во сессий для количества страниц')\n",
    "plt.xlabel('Количество страниц')\n",
    "plt.ylabel('Кол-во сессий')\n",
    "\n",
    "plt.show()"
   ]
  },
  {
   "cell_type": "markdown",
   "metadata": {
    "id": "xDltSpVP0eMr"
   },
   "source": [
    "#### 1.5. Доля пользователей, просмотревших более четырёх страниц\n",
    "Будем считать, что сессии, в рамках которых пользователь просмотрел 4 и более страниц, говорят об удовлетворённости контентом и алгоритмами рекомендаций. Этот показатель является важной прокси-метрикой для продукта.\n",
    "\n",
    "- В датафрейме `sessions_history` создадим дополнительный столбец `good_session`. В него войдёт значение `1`, если за одну сессию было просмотрено 4 и более страниц, и значение `0`, если было просмотрено меньше.\n",
    "\n",
    "- Построим график со средним значением доли успешных сессий от всех сессий по дням за весь период наблюдения."
   ]
  },
  {
   "cell_type": "code",
   "execution_count": 6,
   "metadata": {
    "id": "iygaPfixPYMW"
   },
   "outputs": [
    {
     "data": {
      "image/png": "[encoded data removed]",
      "text/plain": [
       "<Figure size 1080x360 with 1 Axes>"
      ]
     },
     "metadata": {
      "needs_background": "light"
     },
     "output_type": "display_data"
    }
   ],
   "source": [
    "# cоздаём новый столбец и изначально заполняем его нулями\n",
    "session_history['good_session'] = 0\n",
    "\n",
    "# меняем значения на 1 там, где page_counter больше 4\n",
    "session_history.loc[session_history['page_counter'] >= 4, 'good_session'] = 1\n",
    "\n",
    "# находим общее кол-во сессий за день\n",
    "grouped_session_all = session_history.groupby('session_date')['session_id'].count()\n",
    "\n",
    "# находим \"успешные\" сессии\n",
    "good_session = session_history[session_history['good_session'] == 1]\n",
    "good_session = good_session.groupby('session_date')['session_id'].count()\n",
    "\n",
    "# находим долю \"успешных\" сессий от общего числа\n",
    "share_good_sessiob = good_session / grouped_session_all * 100\n",
    "\n",
    "plt.figure(figsize=(15, 5))\n",
    "\n",
    "# строим график\n",
    "plt.plot(share_good_sessiob, label='Доля успешных сессий')\n",
    "\n",
    "# оформление графика\n",
    "plt.title('Анализ успешных сессий (с кол-вом страниц больше 4)')\n",
    "plt.xlabel('День')     \n",
    "plt.ylabel('Доля сессий')\n",
    "plt.legend() \n",
    "plt.xticks(rotation=90)\n",
    "plt.grid(True) \n",
    "\n",
    "# Отображение графика\n",
    "plt.show()"
   ]
  },
  {
   "cell_type": "markdown",
   "metadata": {
    "id": "21JcG77Y0eMt"
   },
   "source": [
    "### 2. Подготовка к тесту\n",
    "При планировании теста необходимо проделать несколько важных шагов:\n",
    "\n",
    "- Сформулировать нулевую и альтернативную гипотезы\n",
    "\n",
    "- Определиться с целевой метрикой.\n",
    "\n",
    "- Рассчитать необходимый размер выборки.\n",
    "\n",
    "- Исходя из текущих значений трафика рассчитать необходимую длительность проведения теста."
   ]
  },
  {
   "cell_type": "markdown",
   "metadata": {
    "id": "kXdcwkjf859k"
   },
   "source": [
    "#### 2.1 Формулировка нулевой и альтернативной гипотез\n",
    "\n",
    "Перед тем как проводить А/B-тест, необходимо сформулировать нулевую и альтернативную гипотезы. В качестве целевой метрики будем использовать количество успешных сессий, то есть тех, где пользователь посетил четыре и более страницы."
   ]
  },
  {
   "cell_type": "markdown",
   "metadata": {
    "id": "RiKI8eT49h3F"
   },
   "source": [
    "Сформулируйте нулевую и альтернативную гипотезы:\n",
    "\n",
    "`🔖 H0: Кол-во \"успешных\" сессий не увеличится`\n",
    "\n",
    "`🔖 H1: Кол-во \"успешных\" сессий увеличится`\n",
    "\n"
   ]
  },
  {
   "cell_type": "markdown",
   "metadata": {
    "id": "uzaeln270eMt"
   },
   "source": [
    "#### 2.2. Расчёт размера выборки\n",
    "Для расчета размера выборки установим в коде ниже следующие параметры:\n",
    "\n",
    "- Уровень значимости — 0.05.\n",
    "\n",
    "- Вероятность ошибки второго рода — 0.2.\n",
    "\n",
    "- Мощность теста.\n",
    "\n",
    "- Минимальный детектируемый эффект, или MDE, — 3%. Обратите внимание, что здесь нужно указать десятичную дробь, а не процент.\n",
    "\n",
    "При расчёте размера выборки будем использовать метод `solve_power()` из класса `power.NormalIndPower` модуля `statsmodels.stats`."
   ]
  },
  {
   "cell_type": "code",
   "execution_count": 7,
   "metadata": {
    "id": "zSxJyPGPNdaI"
   },
   "outputs": [
    {
     "name": "stdout",
     "output_type": "stream",
     "text": [
      "Необходимый размер выборки для каждой группы: 41040\n"
     ]
    }
   ],
   "source": [
    "from statsmodels.stats.power import NormalIndPower\n",
    "from statsmodels.stats.proportion import proportion_effectsize\n",
    "\n",
    "# Задаём параметры\n",
    "alpha = 0.05  # Уровень значимости\n",
    "beta = 0.2  # Ошибка второго рода, часто 1 - мощность\n",
    "power = 0.8  # Мощность теста\n",
    "p = 0.3 # Базовый уровень доли\n",
    "mde = 0.03 * p  # Минимальный детектируемый эффект\n",
    "effect_size = proportion_effectsize(p, p + mde)\n",
    "\n",
    "# Инициализируем класс NormalIndPower\n",
    "power_analysis = NormalIndPower()\n",
    "\n",
    "# Рассчитываем размер выборки\n",
    "sample_size = power_analysis.solve_power(\n",
    "    effect_size = effect_size,\n",
    "    power = power,\n",
    "    alpha = alpha,\n",
    "    ratio = 1 # Равномерное распределение выборок\n",
    ")\n",
    "\n",
    "print(f\"Необходимый размер выборки для каждой группы: {int(sample_size)}\")"
   ]
  },
  {
   "cell_type": "markdown",
   "metadata": {
    "id": "qLEv4RoV0eMu"
   },
   "source": [
    "#### 2.3. Расчёт длительности A/B-теста\n",
    "\n",
    "Используя данные о количестве пользователей в каждой выборке и среднем количестве пользователей приложения, рассчитаем длительность теста, разделив одно на другое.\n",
    "\n",
    "- Рассчитаем среднее количество уникальных пользователей приложения в день.\n",
    "\n",
    "- Определим длительность теста исходя из рассчитанного значения размера выборок и среднего дневного трафика приложения."
   ]
  },
  {
   "cell_type": "code",
   "execution_count": 8,
   "metadata": {
    "id": "KZDRbryDOGHa"
   },
   "outputs": [
    {
     "name": "stdout",
     "output_type": "stream",
     "text": [
      "Рассчитанная длительность A/B-теста при текущем уровене трафика в 9907 пользователей в день составит 9 дней\n"
     ]
    }
   ],
   "source": [
    "from math import ceil\n",
    "\n",
    "# Среднее количество пользователей приложения в день по историческим данным\n",
    "count_users = session_history.groupby('session_date')['user_id'].nunique()\n",
    "avg_daily_users = round(count_users.mean())\n",
    "\n",
    "# Рассчитываем длительность теста в днях как отношение размера выборки к среднему числу пользователей\n",
    "test_duration = ceil(int(sample_size * 2) / avg_daily_users)\n",
    "\n",
    "print(f\"Рассчитанная длительность A/B-теста при текущем уровене трафика в {avg_daily_users} пользователей в день составит {test_duration} дней\")"
   ]
  },
  {
   "cell_type": "markdown",
   "metadata": {
    "id": "ZuvtAdha0eMv"
   },
   "source": [
    "### 3. Мониторинг А/В-теста"
   ]
  },
  {
   "cell_type": "markdown",
   "metadata": {
    "id": "jq5sE3Ya0eMv"
   },
   "source": [
    "#### 3.1. Проверка распределения пользователей\n",
    "\n",
    "A/B-тест успешно запущен, и уже доступны данные за первые три дня. На этом этапе нужно убедиться, что всё идёт хорошо: пользователи разделены правильным образом, а интересующие вас метрики корректно считаются.\n",
    "\n",
    "- Рассчитаем количество уникальных пользователей в каждой из экспериментальных групп для одного дня наблюдения.\n",
    "\n",
    "- Рассчитаем и выведем на экран процентную разницу в количестве пользователей в группах A и B.\n",
    "\n",
    "Для расчёта процентной разницы воспользуемся формулой:\n",
    "$$P = 100 \\cdot  \\frac{|A − B|}{A}$$"
   ]
  },
  {
   "cell_type": "code",
   "execution_count": null,
   "metadata": {
    "id": "G1bqIzDJOUiz"
   },
   "outputs": [
    {
     "data": {
      "text/html": [
       "<div>\n",
       "<style scoped>\n",
       "    .dataframe tbody tr th:only-of-type {\n",
       "        vertical-align: middle;\n",
       "    }\n",
       "\n",
       "    .dataframe tbody tr th {\n",
       "        vertical-align: top;\n",
       "    }\n",
       "\n",
       "    .dataframe thead th {\n",
       "        text-align: right;\n",
       "    }\n",
       "</style>\n",
       "<table border=\"1\" class=\"dataframe\">\n",
       "  <thead>\n",
       "    <tr style=\"text-align: right;\">\n",
       "      <th></th>\n",
       "      <th>user_id</th>\n",
       "      <th>session_id</th>\n",
       "      <th>session_date</th>\n",
       "      <th>session_start_ts</th>\n",
       "      <th>install_date</th>\n",
       "      <th>session_number</th>\n",
       "      <th>registration_flag</th>\n",
       "      <th>page_counter</th>\n",
       "      <th>region</th>\n",
       "      <th>device</th>\n",
       "      <th>test_group</th>\n",
       "    </tr>\n",
       "  </thead>\n",
       "  <tbody>\n",
       "    <tr>\n",
       "      <th>0</th>\n",
       "      <td>3404844B53442747</td>\n",
       "      <td>B4901323BD537E45</td>\n",
       "      <td>2025-10-14</td>\n",
       "      <td>2025-10-14 19:28:49</td>\n",
       "      <td>2025-10-14</td>\n",
       "      <td>1</td>\n",
       "      <td>0</td>\n",
       "      <td>3</td>\n",
       "      <td>CIS</td>\n",
       "      <td>Android</td>\n",
       "      <td>B</td>\n",
       "    </tr>\n",
       "    <tr>\n",
       "      <th>1</th>\n",
       "      <td>3A2BF4D364E62D89</td>\n",
       "      <td>216FC619308F8788</td>\n",
       "      <td>2025-10-14</td>\n",
       "      <td>2025-10-14 21:11:04</td>\n",
       "      <td>2025-10-14</td>\n",
       "      <td>1</td>\n",
       "      <td>0</td>\n",
       "      <td>3</td>\n",
       "      <td>MENA</td>\n",
       "      <td>iPhone</td>\n",
       "      <td>A</td>\n",
       "    </tr>\n",
       "    <tr>\n",
       "      <th>2</th>\n",
       "      <td>79CDAE11E32B1597</td>\n",
       "      <td>EDFCE4AC1A504074</td>\n",
       "      <td>2025-10-14</td>\n",
       "      <td>2025-10-14 21:44:03</td>\n",
       "      <td>2025-10-14</td>\n",
       "      <td>1</td>\n",
       "      <td>0</td>\n",
       "      <td>3</td>\n",
       "      <td>CIS</td>\n",
       "      <td>iPhone</td>\n",
       "      <td>A</td>\n",
       "    </tr>\n",
       "    <tr>\n",
       "      <th>3</th>\n",
       "      <td>D6AF8D78297A931F</td>\n",
       "      <td>CF0AC0EEDE92C690</td>\n",
       "      <td>2025-10-14</td>\n",
       "      <td>2025-10-14 19:07:55</td>\n",
       "      <td>2025-10-14</td>\n",
       "      <td>1</td>\n",
       "      <td>0</td>\n",
       "      <td>4</td>\n",
       "      <td>CIS</td>\n",
       "      <td>PC</td>\n",
       "      <td>A</td>\n",
       "    </tr>\n",
       "    <tr>\n",
       "      <th>4</th>\n",
       "      <td>37E0CE723AE568E0</td>\n",
       "      <td>2E6ED45E8C86C4E9</td>\n",
       "      <td>2025-10-14</td>\n",
       "      <td>2025-10-14 15:39:44</td>\n",
       "      <td>2025-10-14</td>\n",
       "      <td>1</td>\n",
       "      <td>0</td>\n",
       "      <td>3</td>\n",
       "      <td>CIS</td>\n",
       "      <td>Mac</td>\n",
       "      <td>B</td>\n",
       "    </tr>\n",
       "  </tbody>\n",
       "</table>\n",
       "</div>"
      ],
      "text/plain": [
       "            user_id        session_id session_date     session_start_ts  \\\n",
       "0  3404844B53442747  B4901323BD537E45   2025-10-14  2025-10-14 19:28:49   \n",
       "1  3A2BF4D364E62D89  216FC619308F8788   2025-10-14  2025-10-14 21:11:04   \n",
       "2  79CDAE11E32B1597  EDFCE4AC1A504074   2025-10-14  2025-10-14 21:44:03   \n",
       "3  D6AF8D78297A931F  CF0AC0EEDE92C690   2025-10-14  2025-10-14 19:07:55   \n",
       "4  37E0CE723AE568E0  2E6ED45E8C86C4E9   2025-10-14  2025-10-14 15:39:44   \n",
       "\n",
       "  install_date  session_number  registration_flag  page_counter region  \\\n",
       "0   2025-10-14               1                  0             3    CIS   \n",
       "1   2025-10-14               1                  0             3   MENA   \n",
       "2   2025-10-14               1                  0             3    CIS   \n",
       "3   2025-10-14               1                  0             4    CIS   \n",
       "4   2025-10-14               1                  0             3    CIS   \n",
       "\n",
       "    device test_group  \n",
       "0  Android          B  \n",
       "1   iPhone          A  \n",
       "2   iPhone          A  \n",
       "3       PC          A  \n",
       "4      Mac          B  "
      ]
     },
     "execution_count": 9,
     "metadata": {},
     "output_type": "execute_result"
    }
   ],
   "source": [
    "# считываем данные\n",
    "sessions_test_part = pd.read_csv('path/sessions_project_test_part.csv')\n",
    "sessions_test_part.head()"
   ]
  },
  {
   "cell_type": "code",
   "execution_count": 10,
   "metadata": {},
   "outputs": [
    {
     "name": "stdout",
     "output_type": "stream",
     "text": [
      "В группе A 1477 участников, в группе В 1466 участников. Разница в группах составляет 0.745%\n"
     ]
    }
   ],
   "source": [
    "# так как данные представлены только за один день, можно использовать группировку только по группе \n",
    "count_days = sessions_test_part.groupby('test_group')['user_id'].nunique()\n",
    "\n",
    "# расчитаем процентную разницу\n",
    "a = count_days.values[0]\n",
    "b = count_days.values[1]\n",
    "p = round(100 * ((abs(a - b)) / a), 3)\n",
    "\n",
    "print(f'В группе A {count_days.values[0]} участников, в группе В {count_days.values[1]} участников. Разница в группах составляет {p}%')"
   ]
  },
  {
   "cell_type": "code",
   "execution_count": 11,
   "metadata": {},
   "outputs": [
    {
     "data": {
      "image/png": "[encoded data removed]",
      "text/plain": [
       "<Figure size 720x432 with 1 Axes>"
      ]
     },
     "metadata": {
      "needs_background": "light"
     },
     "output_type": "display_data"
    }
   ],
   "source": [
    "# строим столбчатую диаграмму\n",
    "plt.figure(figsize=(10, 6))\n",
    "\n",
    "plt.bar(count_days.index, count_days.values)\n",
    "\n",
    "plt.title('Кол-во пользователей в каждой группе')\n",
    "plt.xlabel('Группы')\n",
    "plt.ylabel('Кол-во участников')\n",
    "\n",
    "plt.show()"
   ]
  },
  {
   "cell_type": "markdown",
   "metadata": {
    "id": "sgpNY5bv0eM0"
   },
   "source": [
    "#### 3.2. Проверка пересечений пользователей\n",
    "Помимо проверки равенства количества пользователей в группах, полезно убедиться в том, что группы независимы. Для этого нужно убедиться, что никто из пользователей случайно не попал в обе группы одновременно.\n",
    "\n",
    "- Рассчитаем количество пользователей, которые встречаются одновременно в группах A и B, или убедимся, что таких нет."
   ]
  },
  {
   "cell_type": "code",
   "execution_count": 12,
   "metadata": {},
   "outputs": [
    {
     "name": "stdout",
     "output_type": "stream",
     "text": [
      "Пользователей, которые одновременно встречаются в группах А и В, нет!\n"
     ]
    }
   ],
   "source": [
    "# выделим участников теста в две группы\n",
    "group_a = sessions_test_part[sessions_test_part['test_group'] == 'A']\n",
    "group_b = sessions_test_part[sessions_test_part['test_group'] == 'B']\n",
    "\n",
    "# проверяем совпадения\n",
    "merged_group_df = pd.merge(group_a, group_b, how='inner', on=list(group_a.columns))\n",
    "\n",
    "# проверяем наличие совпадающих строк\n",
    "if merged_group_df.empty:\n",
    "    print(\"Пользователей, которые одновременно встречаются в группах А и В, нет!\")\n",
    "else:\n",
    "    print(\"Есть совпадающие пользователи:\", merged_df)"
   ]
  },
  {
   "cell_type": "markdown",
   "metadata": {
    "id": "6RvkNLrg0eM1"
   },
   "source": [
    "#### 3.3. Равномерность разделения пользователей по устройствам\n",
    "Полезно также убедиться в том, что пользователи равномерно распределены по всем доступным категориальным переменным — типам устройств и регионам.\n",
    "\n",
    "Построим две диаграммы:\n",
    "\n",
    "- доля каждого типа устройства для пользователей из группы A,\n",
    "\n",
    "- доля каждого типа устройства для пользователей из группы B.\n"
   ]
  },
  {
   "cell_type": "code",
   "execution_count": 13,
   "metadata": {
    "id": "x_IP6PUNPWHC"
   },
   "outputs": [
    {
     "data": {
      "image/png": "[encoded data removed]",
      "text/plain": [
       "<Figure size 1008x720 with 1 Axes>"
      ]
     },
     "metadata": {
      "needs_background": "light"
     },
     "output_type": "display_data"
    },
    {
     "data": {
      "image/png": "[encoded data removed]",
      "text/plain": [
       "<Figure size 1008x720 with 1 Axes>"
      ]
     },
     "metadata": {
      "needs_background": "light"
     },
     "output_type": "display_data"
    }
   ],
   "source": [
    "count_a = group_a['user_id'].nunique()\n",
    "count_b = group_b['user_id'].nunique()\n",
    "\n",
    "device_a = round(group_a.groupby('device')['user_id'].nunique() / count_a * 100, 2)\n",
    "device_b = round(group_b.groupby('device')['user_id'].nunique() / count_b * 100, 2)\n",
    "\n",
    "# строим первую диаграмму\n",
    "plt.figure(figsize=(14, 10))\n",
    "plt.bar(device_a.index, device_a.values)\n",
    "\n",
    "for i, v in enumerate(device_a.values):\n",
    "    plt.text(i, v + 1, f'{round(v, 2)}%', ha='center', va='bottom', fontsize=10)\n",
    "\n",
    "plt.title('Доля устройств для пользователей из группы A')\n",
    "plt.xlabel('Устройства')\n",
    "plt.ylabel('Доля пользователей')\n",
    "\n",
    "plt.show()\n",
    "\n",
    "# строим вторую диаграмму\n",
    "plt.figure(figsize=(14, 10))\n",
    "plt.bar(device_b.index, device_b.values)\n",
    "\n",
    "for i, v in enumerate(device_b.values):\n",
    "    plt.text(i, v + 1, f'{round(v, 2)}%', ha='center', va='bottom', fontsize=10)\n",
    "\n",
    "plt.title('Доля устройств для пользователей из группы В')\n",
    "plt.xlabel('Устройства')\n",
    "plt.ylabel('Доля пользователей')\n",
    "\n",
    "plt.show()"
   ]
  },
  {
   "cell_type": "code",
   "execution_count": 14,
   "metadata": {},
   "outputs": [
    {
     "data": {
      "image/png": "[encoded data removed]",
      "text/plain": [
       "<Figure size 720x360 with 1 Axes>"
      ]
     },
     "metadata": {
      "needs_background": "light"
     },
     "output_type": "display_data"
    }
   ],
   "source": [
    "# для наглядности наложим диаграммы друг на друга, чтобы увидеть разницу распределения\n",
    "plt.figure(figsize=(10, 5))\n",
    "\n",
    "plt.bar(device_a.index, device_a.values, alpha=0.5, label='Группа А')\n",
    "plt.bar(device_b.index, device_b.values, alpha=0.5, label='Группа В')\n",
    "\n",
    "plt.title('Доля устройств для пользователей из обоих групп')\n",
    "plt.xlabel('Устройства')\n",
    "plt.ylabel('Доля пользователей')\n",
    "plt.legend() \n",
    "\n",
    "plt.show()"
   ]
  },
  {
   "cell_type": "markdown",
   "metadata": {
    "id": "gAgmP6vo0eM1"
   },
   "source": [
    "#### 3.4. Равномерность распределения пользователей по регионам\n",
    "Теперь убедимся, что пользователи равномерно распределены по регионам.\n",
    "\n",
    "Построим две диаграммы:\n",
    "\n",
    "- доля каждого региона для пользователей из группы A,\n",
    "\n",
    "- доля каждого региона для пользователей из группы B.\n"
   ]
  },
  {
   "cell_type": "code",
   "execution_count": 15,
   "metadata": {
    "id": "3hAq-FG4OdYM"
   },
   "outputs": [
    {
     "data": {
      "image/png": "[encoded data removed]",
      "text/plain": [
       "<Figure size 1008x720 with 1 Axes>"
      ]
     },
     "metadata": {
      "needs_background": "light"
     },
     "output_type": "display_data"
    },
    {
     "data": {
      "image/png": "[encoded data removed]",
      "text/plain": [
       "<Figure size 1008x720 with 1 Axes>"
      ]
     },
     "metadata": {
      "needs_background": "light"
     },
     "output_type": "display_data"
    }
   ],
   "source": [
    "region_a = round(group_a.groupby('region')['user_id'].nunique() / count_a * 100, 2)\n",
    "region_b = round(group_b.groupby('region')['user_id'].nunique() / count_b * 100, 2)\n",
    "\n",
    "# строим первую диаграмму\n",
    "plt.figure(figsize=(14, 10))\n",
    "plt.bar(region_a.index, region_a.values)\n",
    "\n",
    "for i, v in enumerate(region_a.values):\n",
    "    plt.text(i, v + 1, f'{round(v, 2)}%', ha='center', va='bottom', fontsize=10)\n",
    "\n",
    "plt.title('Доля по регионам для пользователей из группы A')\n",
    "plt.xlabel('Регионы')\n",
    "plt.ylabel('Доля пользователей')\n",
    "\n",
    "plt.show()\n",
    "\n",
    "# строим вторую диаграмму\n",
    "plt.figure(figsize=(14, 10))\n",
    "plt.bar(region_b.index, region_b.values)\n",
    "\n",
    "for i, v in enumerate(region_b.values):\n",
    "    plt.text(i, v + 1, f'{round(v, 2)}%', ha='center', va='bottom', fontsize=10)\n",
    "\n",
    "plt.title('Доля по регионам для пользователей из группы В')\n",
    "plt.xlabel('Регионы')\n",
    "plt.ylabel('Доля пользователей')\n",
    "\n",
    "plt.show()"
   ]
  },
  {
   "cell_type": "code",
   "execution_count": 16,
   "metadata": {},
   "outputs": [
    {
     "data": {
      "image/png": "[encoded data removed]",
      "text/plain": [
       "<Figure size 720x360 with 1 Axes>"
      ]
     },
     "metadata": {
      "needs_background": "light"
     },
     "output_type": "display_data"
    }
   ],
   "source": [
    "# для наглядности наложим диаграммы друг на друга, чтобы увидеть разницу распределения\n",
    "plt.figure(figsize=(10, 5))\n",
    "\n",
    "plt.bar(region_a.index, region_a.values, alpha=0.5, label='Группа А')\n",
    "plt.bar(region_b.index, region_b.values, alpha=0.5, label='Группа В')\n",
    "\n",
    "plt.title('Доля по регионам для пользователей из обоих групп')\n",
    "plt.xlabel('Регион')\n",
    "plt.ylabel('Доля пользователей')\n",
    "plt.legend() \n",
    "\n",
    "plt.show()"
   ]
  },
  {
   "cell_type": "markdown",
   "metadata": {
    "id": "X2WSZ-sDrSUi"
   },
   "source": [
    "#### 3.5. Вывод после проверки A/B-теста"
   ]
  },
  {
   "cell_type": "markdown",
   "metadata": {
    "id": "dDELHlAcOi8d"
   },
   "source": [
    "- В группе A 1477 участников, в группе В 1466 участников. Разница в группах составляет 0.745% и является минимальной, из чего мы делаем вывод, что значительных различий в количестве пользователей в группах не обнаружено. \n",
    "- Выборки являются независимыми, так как мы не нашли пользователей, которые встречаются и в тестовой группе и в контрольной. \n",
    "- Мы рассмотрели распределение пользователей тестовой и контрольной группы по категориальным переменным: устройствам и регионам. Разница в распределении по устройствам и регионам не превышает 2-х%, из чего мы можем сделать вывод, что в выборках сохраняется равномерное распределение пользователей. \n",
    "\n",
    "Из этого можно сделать вывод, что мы корректно проводим А/В-тест, никаких нарушений не наблюдается!"
   ]
  },
  {
   "cell_type": "markdown",
   "metadata": {
    "id": "nudRr_BQ0eM2"
   },
   "source": [
    "### 4. Проверка результатов A/B-теста\n",
    "\n",
    "A/B-тест завершён, и у вас есть результаты за все дни проведения эксперимента. Необходимо убедиться в корректности теста и верно интерпретировать результаты."
   ]
  },
  {
   "cell_type": "markdown",
   "metadata": {
    "id": "JVve-YBB0eM2"
   },
   "source": [
    "#### 4.1. Получение результатов теста и подсчёт основной метрики"
   ]
  },
  {
   "cell_type": "code",
   "execution_count": null,
   "metadata": {
    "id": "EqRlwMtKPTir"
   },
   "outputs": [
    {
     "data": {
      "text/html": [
       "<div>\n",
       "<style scoped>\n",
       "    .dataframe tbody tr th:only-of-type {\n",
       "        vertical-align: middle;\n",
       "    }\n",
       "\n",
       "    .dataframe tbody tr th {\n",
       "        vertical-align: top;\n",
       "    }\n",
       "\n",
       "    .dataframe thead th {\n",
       "        text-align: right;\n",
       "    }\n",
       "</style>\n",
       "<table border=\"1\" class=\"dataframe\">\n",
       "  <thead>\n",
       "    <tr style=\"text-align: right;\">\n",
       "      <th></th>\n",
       "      <th>user_id</th>\n",
       "      <th>session_id</th>\n",
       "      <th>session_date</th>\n",
       "      <th>session_start_ts</th>\n",
       "      <th>install_date</th>\n",
       "      <th>session_number</th>\n",
       "      <th>registration_flag</th>\n",
       "      <th>page_counter</th>\n",
       "      <th>region</th>\n",
       "      <th>device</th>\n",
       "      <th>test_group</th>\n",
       "    </tr>\n",
       "  </thead>\n",
       "  <tbody>\n",
       "    <tr>\n",
       "      <th>0</th>\n",
       "      <td>6DAE3B3654DA738E</td>\n",
       "      <td>C69249E26E58F6E2</td>\n",
       "      <td>2025-10-26</td>\n",
       "      <td>2025-10-26 18:15:05</td>\n",
       "      <td>2025-10-16</td>\n",
       "      <td>3</td>\n",
       "      <td>0</td>\n",
       "      <td>3</td>\n",
       "      <td>MENA</td>\n",
       "      <td>Android</td>\n",
       "      <td>A</td>\n",
       "    </tr>\n",
       "    <tr>\n",
       "      <th>1</th>\n",
       "      <td>0A3FE5D1DD59110A</td>\n",
       "      <td>66D66D7C9F5181B7</td>\n",
       "      <td>2025-10-21</td>\n",
       "      <td>2025-10-21 17:04:53</td>\n",
       "      <td>2025-10-15</td>\n",
       "      <td>2</td>\n",
       "      <td>1</td>\n",
       "      <td>2</td>\n",
       "      <td>CIS</td>\n",
       "      <td>Android</td>\n",
       "      <td>B</td>\n",
       "    </tr>\n",
       "    <tr>\n",
       "      <th>2</th>\n",
       "      <td>2041F1D7AA740B88</td>\n",
       "      <td>50DE51D42215E74C</td>\n",
       "      <td>2025-10-23</td>\n",
       "      <td>2025-10-23 17:39:29</td>\n",
       "      <td>2025-10-19</td>\n",
       "      <td>3</td>\n",
       "      <td>0</td>\n",
       "      <td>2</td>\n",
       "      <td>MENA</td>\n",
       "      <td>Android</td>\n",
       "      <td>A</td>\n",
       "    </tr>\n",
       "    <tr>\n",
       "      <th>3</th>\n",
       "      <td>43D7585009168086</td>\n",
       "      <td>5763C0C353C22263</td>\n",
       "      <td>2025-10-24</td>\n",
       "      <td>2025-10-24 15:01:57</td>\n",
       "      <td>2025-10-18</td>\n",
       "      <td>4</td>\n",
       "      <td>0</td>\n",
       "      <td>1</td>\n",
       "      <td>CIS</td>\n",
       "      <td>iPhone</td>\n",
       "      <td>B</td>\n",
       "    </tr>\n",
       "    <tr>\n",
       "      <th>4</th>\n",
       "      <td>15AD68B14D62D88C</td>\n",
       "      <td>B1AD09F93C1053BC</td>\n",
       "      <td>2025-10-17</td>\n",
       "      <td>2025-10-17 17:34:39</td>\n",
       "      <td>2025-10-17</td>\n",
       "      <td>1</td>\n",
       "      <td>0</td>\n",
       "      <td>2</td>\n",
       "      <td>MENA</td>\n",
       "      <td>Android</td>\n",
       "      <td>B</td>\n",
       "    </tr>\n",
       "  </tbody>\n",
       "</table>\n",
       "</div>"
      ],
      "text/plain": [
       "            user_id        session_id session_date     session_start_ts  \\\n",
       "0  6DAE3B3654DA738E  C69249E26E58F6E2   2025-10-26  2025-10-26 18:15:05   \n",
       "1  0A3FE5D1DD59110A  66D66D7C9F5181B7   2025-10-21  2025-10-21 17:04:53   \n",
       "2  2041F1D7AA740B88  50DE51D42215E74C   2025-10-23  2025-10-23 17:39:29   \n",
       "3  43D7585009168086  5763C0C353C22263   2025-10-24  2025-10-24 15:01:57   \n",
       "4  15AD68B14D62D88C  B1AD09F93C1053BC   2025-10-17  2025-10-17 17:34:39   \n",
       "\n",
       "  install_date  session_number  registration_flag  page_counter region  \\\n",
       "0   2025-10-16               3                  0             3   MENA   \n",
       "1   2025-10-15               2                  1             2    CIS   \n",
       "2   2025-10-19               3                  0             2   MENA   \n",
       "3   2025-10-18               4                  0             1    CIS   \n",
       "4   2025-10-17               1                  0             2   MENA   \n",
       "\n",
       "    device test_group  \n",
       "0  Android          A  \n",
       "1  Android          B  \n",
       "2  Android          A  \n",
       "3   iPhone          B  \n",
       "4  Android          B  "
      ]
     },
     "execution_count": 17,
     "metadata": {},
     "output_type": "execute_result"
    }
   ],
   "source": [
    "# считываем данные\n",
    "sessions_test = pd.read_csv('path/sessions_project_test.csv')\n",
    "sessions_test.head()"
   ]
  },
  {
   "cell_type": "code",
   "execution_count": 18,
   "metadata": {},
   "outputs": [
    {
     "data": {
      "text/html": [
       "<div>\n",
       "<style scoped>\n",
       "    .dataframe tbody tr th:only-of-type {\n",
       "        vertical-align: middle;\n",
       "    }\n",
       "\n",
       "    .dataframe tbody tr th {\n",
       "        vertical-align: top;\n",
       "    }\n",
       "\n",
       "    .dataframe thead th {\n",
       "        text-align: right;\n",
       "    }\n",
       "</style>\n",
       "<table border=\"1\" class=\"dataframe\">\n",
       "  <thead>\n",
       "    <tr style=\"text-align: right;\">\n",
       "      <th></th>\n",
       "      <th>user_id</th>\n",
       "      <th>session_id</th>\n",
       "      <th>session_date</th>\n",
       "      <th>session_start_ts</th>\n",
       "      <th>install_date</th>\n",
       "      <th>session_number</th>\n",
       "      <th>registration_flag</th>\n",
       "      <th>page_counter</th>\n",
       "      <th>region</th>\n",
       "      <th>device</th>\n",
       "      <th>test_group</th>\n",
       "      <th>good_session</th>\n",
       "    </tr>\n",
       "  </thead>\n",
       "  <tbody>\n",
       "    <tr>\n",
       "      <th>0</th>\n",
       "      <td>6DAE3B3654DA738E</td>\n",
       "      <td>C69249E26E58F6E2</td>\n",
       "      <td>2025-10-26</td>\n",
       "      <td>2025-10-26 18:15:05</td>\n",
       "      <td>2025-10-16</td>\n",
       "      <td>3</td>\n",
       "      <td>0</td>\n",
       "      <td>3</td>\n",
       "      <td>MENA</td>\n",
       "      <td>Android</td>\n",
       "      <td>A</td>\n",
       "      <td>0</td>\n",
       "    </tr>\n",
       "    <tr>\n",
       "      <th>1</th>\n",
       "      <td>0A3FE5D1DD59110A</td>\n",
       "      <td>66D66D7C9F5181B7</td>\n",
       "      <td>2025-10-21</td>\n",
       "      <td>2025-10-21 17:04:53</td>\n",
       "      <td>2025-10-15</td>\n",
       "      <td>2</td>\n",
       "      <td>1</td>\n",
       "      <td>2</td>\n",
       "      <td>CIS</td>\n",
       "      <td>Android</td>\n",
       "      <td>B</td>\n",
       "      <td>0</td>\n",
       "    </tr>\n",
       "    <tr>\n",
       "      <th>2</th>\n",
       "      <td>2041F1D7AA740B88</td>\n",
       "      <td>50DE51D42215E74C</td>\n",
       "      <td>2025-10-23</td>\n",
       "      <td>2025-10-23 17:39:29</td>\n",
       "      <td>2025-10-19</td>\n",
       "      <td>3</td>\n",
       "      <td>0</td>\n",
       "      <td>2</td>\n",
       "      <td>MENA</td>\n",
       "      <td>Android</td>\n",
       "      <td>A</td>\n",
       "      <td>0</td>\n",
       "    </tr>\n",
       "    <tr>\n",
       "      <th>3</th>\n",
       "      <td>43D7585009168086</td>\n",
       "      <td>5763C0C353C22263</td>\n",
       "      <td>2025-10-24</td>\n",
       "      <td>2025-10-24 15:01:57</td>\n",
       "      <td>2025-10-18</td>\n",
       "      <td>4</td>\n",
       "      <td>0</td>\n",
       "      <td>1</td>\n",
       "      <td>CIS</td>\n",
       "      <td>iPhone</td>\n",
       "      <td>B</td>\n",
       "      <td>0</td>\n",
       "    </tr>\n",
       "    <tr>\n",
       "      <th>4</th>\n",
       "      <td>15AD68B14D62D88C</td>\n",
       "      <td>B1AD09F93C1053BC</td>\n",
       "      <td>2025-10-17</td>\n",
       "      <td>2025-10-17 17:34:39</td>\n",
       "      <td>2025-10-17</td>\n",
       "      <td>1</td>\n",
       "      <td>0</td>\n",
       "      <td>2</td>\n",
       "      <td>MENA</td>\n",
       "      <td>Android</td>\n",
       "      <td>B</td>\n",
       "      <td>0</td>\n",
       "    </tr>\n",
       "  </tbody>\n",
       "</table>\n",
       "</div>"
      ],
      "text/plain": [
       "            user_id        session_id session_date     session_start_ts  \\\n",
       "0  6DAE3B3654DA738E  C69249E26E58F6E2   2025-10-26  2025-10-26 18:15:05   \n",
       "1  0A3FE5D1DD59110A  66D66D7C9F5181B7   2025-10-21  2025-10-21 17:04:53   \n",
       "2  2041F1D7AA740B88  50DE51D42215E74C   2025-10-23  2025-10-23 17:39:29   \n",
       "3  43D7585009168086  5763C0C353C22263   2025-10-24  2025-10-24 15:01:57   \n",
       "4  15AD68B14D62D88C  B1AD09F93C1053BC   2025-10-17  2025-10-17 17:34:39   \n",
       "\n",
       "  install_date  session_number  registration_flag  page_counter region  \\\n",
       "0   2025-10-16               3                  0             3   MENA   \n",
       "1   2025-10-15               2                  1             2    CIS   \n",
       "2   2025-10-19               3                  0             2   MENA   \n",
       "3   2025-10-18               4                  0             1    CIS   \n",
       "4   2025-10-17               1                  0             2   MENA   \n",
       "\n",
       "    device test_group  good_session  \n",
       "0  Android          A             0  \n",
       "1  Android          B             0  \n",
       "2  Android          A             0  \n",
       "3   iPhone          B             0  \n",
       "4  Android          B             0  "
      ]
     },
     "execution_count": 18,
     "metadata": {},
     "output_type": "execute_result"
    }
   ],
   "source": [
    "# cоздаём новый столбец и изначально заполняем его нулями\n",
    "sessions_test['good_session'] = 0\n",
    "\n",
    "# меняем значения на 1 там, где page_counter больше 4\n",
    "sessions_test.loc[sessions_test['page_counter'] >= 4, 'good_session'] = 1\n",
    "\n",
    "sessions_test.head()"
   ]
  },
  {
   "cell_type": "markdown",
   "metadata": {
    "id": "aeYhrMYy0eM2"
   },
   "source": [
    "#### 4.2. Проверка корректности результатов теста\n",
    "\n",
    "Прежде чем приступать к анализу ключевых продуктовых метрик, необходимо убедиться, что тест проведён корректно и мы будете сравнивать две сопоставимые группы.\n",
    "\n",
    "- Рассчитаем количество уникальных сессий для каждого дня и обеих тестовых групп, используя группировку.\n",
    "\n",
    "- Проверим, что количество уникальных дневных сессий в двух выборках не различается или различия не статистически значимыми. \n",
    "\n",
    "- H₀ (нулевая гипотеза) — количество уникальных дневных сессий `не различается` между тестовой и контрольной группами.\n",
    "- H₁ (альтернативная гипотеза) — количество уникальных дневных сессий `различается` между тестовой и контрольной группами."
   ]
  },
  {
   "cell_type": "code",
   "execution_count": 19,
   "metadata": {
    "id": "5NUlcltkTTSU"
   },
   "outputs": [
    {
     "name": "stdout",
     "output_type": "stream",
     "text": [
      "p_value = 0.938219304859116\n",
      "Количество уникальных дневных сессий в двух выборках не различается или различия не статистически значимыми!\n"
     ]
    }
   ],
   "source": [
    "group_a = sessions_test[sessions_test['test_group'] == 'A']\n",
    "group_b = sessions_test[sessions_test['test_group'] == 'B']\n",
    "\n",
    "count_session_a = group_a.groupby('session_date')['session_id'].count()\n",
    "count_session_b = group_b.groupby('session_date')['session_id'].count()\n",
    "\n",
    "statistic, p_value = st.ttest_ind(count_session_a, count_session_b)\n",
    "\n",
    "print(f'p_value = {p_value}')\n",
    "if p_value < 0.05:\n",
    "    print('Среднее двух выборок различается!')\n",
    "else:\n",
    "    print('Количество уникальных дневных сессий в двух выборках не различается или различия не статистически значимыми!')"
   ]
  },
  {
   "cell_type": "markdown",
   "metadata": {
    "id": "7kwRxzg70eM3"
   },
   "source": [
    "#### 4.3. Сравнение доли успешных сессий\n",
    "\n",
    "Когда мы убедились, что количество сессий в обеих выборках не различалось, можно переходить к анализу ключевой метрики — доли успешных сессий.\n"
   ]
  },
  {
   "cell_type": "code",
   "execution_count": 20,
   "metadata": {
    "id": "Uku-V1CpPRCz"
   },
   "outputs": [
    {
     "data": {
      "image/png": "[encoded data removed]",
      "text/plain": [
       "<Figure size 1080x360 with 1 Axes>"
      ]
     },
     "metadata": {
      "needs_background": "light"
     },
     "output_type": "display_data"
    }
   ],
   "source": [
    "# находим \"успешные\" сессии\n",
    "good_session_a = group_a[group_a['good_session'] == 1]\n",
    "good_session_a = good_session_a.groupby('session_date')['session_id'].count()\n",
    "\n",
    "good_session_b = group_b[group_b['good_session'] == 1]\n",
    "good_session_b = good_session_b.groupby('session_date')['session_id'].count()\n",
    "\n",
    "# находим долю \"успешных\" сессий от общего числа\n",
    "share_good_session_a = good_session_a / count_session_a * 100\n",
    "share_good_session_b = good_session_b / count_session_b * 100\n",
    "\n",
    "plt.figure(figsize=(15, 5))\n",
    "\n",
    "# строим график\n",
    "plt.plot(share_good_session_a, label='Доля успешных сессий группы А')\n",
    "plt.plot(share_good_session_b, label='Доля успешных сессий группы В')\n",
    "\n",
    "# оформление графика\n",
    "plt.title('Анализ успешных сессий')\n",
    "plt.xlabel('День')     \n",
    "plt.ylabel('Доля сессий')\n",
    "plt.legend() \n",
    "plt.xticks(rotation=90)\n",
    "plt.grid(True) \n",
    "\n",
    "# Отображение графика\n",
    "plt.show()"
   ]
  },
  {
   "cell_type": "code",
   "execution_count": 21,
   "metadata": {},
   "outputs": [
    {
     "name": "stdout",
     "output_type": "stream",
     "text": [
      "Кол-во успешных сессий в группе В на 1.1% выше, чем в группе А\n"
     ]
    }
   ],
   "source": [
    "good_session_a = group_a[group_a['good_session'] == 1]\n",
    "good_session_b = group_b[group_b['good_session'] == 1]\n",
    "\n",
    "\n",
    "count_good_session_a = len(good_session_a)\n",
    "count_good_session_b = len(good_session_b)\n",
    "count_all_session_a = len(group_a)\n",
    "count_all_session_b = len(group_b)\n",
    "\n",
    "share_good_session_a_value = count_good_session_a / count_all_session_a * 100\n",
    "share_good_session_b_value = count_good_session_b / count_all_session_b * 100\n",
    "\n",
    "print(f'Кол-во успешных сессий в группе В на {round(share_good_session_b_value - share_good_session_a_value, 1)}% выше, чем в группе А')"
   ]
  },
  {
   "cell_type": "markdown",
   "metadata": {
    "id": "9fMFuja10eM4"
   },
   "source": [
    "#### 4.4. Насколько статистически значимо изменение ключевой метрики\n",
    "\n",
    "На предыдущем шаге мы убедились, что количество успешных сессий в тестовой выборке примерно на 1.1% выше, чем в контрольной, но делать выводы только на основе этого значения будет некорректно. Для принятия решения всегда необходимо отвечать на вопрос: является ли это изменение статистически значимым.\n",
    "\n",
    "- Используя статистический тест, рассчитаем, является ли изменение в метрике доли успешных сессий статистически значимым."
   ]
  },
  {
   "cell_type": "code",
   "execution_count": 22,
   "metadata": {},
   "outputs": [
    {
     "name": "stdout",
     "output_type": "stream",
     "text": [
      "n_a=49551, n_b=50454\n",
      "m_a=15248, m_b=16059\n",
      "p_a=0.3077233557344958, p_b=0.31828992745867524\n",
      "Изменение в метрике доли успешных сессий является статистически значимым!\n"
     ]
    }
   ],
   "source": [
    "n_a, n_b = count_all_session_a, count_all_session_b ## размеры выборок A и B\n",
    "m_a, m_b = count_good_session_a, count_good_session_b # количество успехов в группе A и в группе B\n",
    "\n",
    "p_a, p_b = m_a/n_a, m_b/n_b # рассчитываем доли успехов для каждой группы: A и B\n",
    "\n",
    "print(f'n_a={n_a}, n_b={n_b}')\n",
    "\n",
    "print(f'm_a={m_a}, m_b={m_b}')\n",
    "\n",
    "print(f'p_a={p_a}, p_b={p_b}')\n",
    "\n",
    "if (p_a*n_a > 10)and((1-p_a)*n_a > 10)and(p_b*n_b > 10)and((1-p_b)*n_b > 10):\n",
    "    print('Изменение в метрике доли успешных сессий является статистически значимым!')\n",
    "else:\n",
    "    print('Изменение в метрике доли успешных сессий не является статистически значимым!')"
   ]
  },
  {
   "cell_type": "code",
   "execution_count": 23,
   "metadata": {},
   "outputs": [
    {
     "name": "stdout",
     "output_type": "stream",
     "text": [
      "pvalue=0.0001574739988036123 < 0.05\n",
      "Нулевая гипотеза не находит подтверждения!\n"
     ]
    }
   ],
   "source": [
    "alpha = 0.05 ## на каком уровне значимости проверяем гипотезу о равенстве вероятностей\n",
    "\n",
    "stat_ztest, p_value_ztest = proportions_ztest(\n",
    "    [m_a, m_b],\n",
    "    [n_a, n_b],\n",
    "    alternative='smaller' # так как H_1: p_a < p_b\n",
    ")\n",
    "p_value_ztest\n",
    "# 1.3630147762819648e-10\n",
    "\n",
    "if p_value_ztest > alpha:\n",
    "    print(f'pvalue={p_value_ztest} > {alpha}')\n",
    "    print('Нулевая гипотеза находит подтверждение!')\n",
    "else:\n",
    "    print(f'pvalue={p_value_ztest} < {alpha}')\n",
    "    print('Нулевая гипотеза не находит подтверждения!')"
   ]
  },
  {
   "cell_type": "markdown",
   "metadata": {
    "id": "GnJrkY9Q63zS"
   },
   "source": [
    "#### 4.5. Вывод по результатам A/B-эксперимента\n",
    "\n",
    "На основе проведённого анализа результатов теста сформулируйте и запишите свои выводы для команды разработки приложения. В выводе обязательно укажите:\n",
    "\n",
    "- Характеристики проведённого эксперимента, количество задействованных пользователей и длительность эксперимента.\n",
    "\n",
    "- Повлияло ли внедрение нового алгоритма рекомендаций на рост ключевой метрики и как.\n",
    "\n",
    "- Каким получилось значение p-value для оценки статистической значимости выявленного эффекта.\n",
    "\n",
    "- Стоит ли внедрять нововведение в приложение."
   ]
  },
  {
   "cell_type": "markdown",
   "metadata": {
    "id": "rri8KRIgPMrW"
   },
   "source": [
    "Мы провели A/B-тест и брали за основу следующую нулевую и альтернативную гипотезы \n",
    "- H0: кол-во \"успешных\" сессий при добавлении нового алгоритма рекомендательных систем не изменится\n",
    "- H1: Кол-во \"успешных\" сессий при добавлении нового алгоритма рекомендательных систем увеличится\n",
    "\n",
    "В качестве целевой метрики брали количество \"успешных\" сессий, то есть количество сессий, где пользователь посетил четыре и более страницы за одну сессию.\n",
    "\n",
    "Рассчитали, что для проведения эксперимента необходимый размер выборки для каждой группы составляет 41 040 пользователей и эксперимент должен проходить 9 дней при текущем уровене трафика в 9 907 пользователей в день. \n",
    "\n",
    "Внедрение нового алгоритма рекомендаций повлияло на рост ключевой метрики: количество \"успешных\" сессий в тестовой выборке примерно на 1.1% выше, чем в контрольной. \n",
    "\n",
    "Несмотря на, казалось бы, незначительное изменение, значение p-value составило 0.0001574739988036123, что позволяет нам отвергнуть нулевую гипотезу. \n",
    "\n",
    "Из этого мы можем сделать вывод, что целесообразно будет внедрить новую систему рекомендаций в приложение!"
   ]
  }
 ],
 "metadata": {
  "ExecuteTimeLog": [
   {
    "duration": 1989,
    "start_time": "2025-07-28T13:20:17.163Z"
   },
   {
    "duration": 1469,
    "start_time": "2025-07-28T13:20:30.022Z"
   },
   {
    "duration": 264,
    "start_time": "2025-07-28T13:21:52.154Z"
   },
   {
    "duration": 304,
    "start_time": "2025-07-28T13:21:55.165Z"
   },
   {
    "duration": 315,
    "start_time": "2025-07-28T13:24:59.285Z"
   },
   {
    "duration": 258,
    "start_time": "2025-07-28T13:26:23.156Z"
   },
   {
    "duration": 267,
    "start_time": "2025-07-28T13:26:27.349Z"
   },
   {
    "duration": 1760,
    "start_time": "2025-07-28T13:28:02.887Z"
   },
   {
    "duration": 282,
    "start_time": "2025-07-28T13:28:57.894Z"
   },
   {
    "duration": 2549,
    "start_time": "2025-07-28T13:34:16.636Z"
   },
   {
    "duration": 9,
    "start_time": "2025-07-28T13:38:03.145Z"
   },
   {
    "duration": 2238,
    "start_time": "2025-07-28T13:38:08.867Z"
   },
   {
    "duration": 18,
    "start_time": "2025-07-28T13:38:11.107Z"
   },
   {
    "duration": 0,
    "start_time": "2025-07-28T13:39:22.424Z"
   },
   {
    "duration": 0,
    "start_time": "2025-07-28T13:39:32.074Z"
   },
   {
    "duration": 0,
    "start_time": "2025-07-28T13:40:09.623Z"
   },
   {
    "duration": 1438,
    "start_time": "2025-07-28T13:40:40.974Z"
   },
   {
    "duration": 2055,
    "start_time": "2025-07-28T13:40:50.468Z"
   },
   {
    "duration": 546,
    "start_time": "2025-07-28T13:42:31.716Z"
   },
   {
    "duration": 569,
    "start_time": "2025-07-28T13:42:48.024Z"
   },
   {
    "duration": 581,
    "start_time": "2025-07-28T13:43:41.412Z"
   },
   {
    "duration": 586,
    "start_time": "2025-07-28T13:43:58.683Z"
   },
   {
    "duration": 603,
    "start_time": "2025-07-28T13:44:44.440Z"
   },
   {
    "duration": 575,
    "start_time": "2025-07-28T13:44:50.658Z"
   },
   {
    "duration": 531,
    "start_time": "2025-07-28T13:44:56.615Z"
   },
   {
    "duration": 578,
    "start_time": "2025-07-28T13:45:14.515Z"
   },
   {
    "duration": 558,
    "start_time": "2025-07-28T13:45:16.752Z"
   },
   {
    "duration": 3,
    "start_time": "2025-07-28T13:47:22.088Z"
   },
   {
    "duration": 5,
    "start_time": "2025-07-28T13:47:30.811Z"
   },
   {
    "duration": 5,
    "start_time": "2025-07-28T13:48:06.502Z"
   },
   {
    "duration": 8,
    "start_time": "2025-07-28T13:48:09.224Z"
   },
   {
    "duration": 522,
    "start_time": "2025-07-28T13:50:01.244Z"
   },
   {
    "duration": 503,
    "start_time": "2025-07-28T13:50:27.632Z"
   },
   {
    "duration": 11,
    "start_time": "2025-07-28T13:52:41.013Z"
   },
   {
    "duration": 1117,
    "start_time": "2025-07-28T13:52:53.598Z"
   },
   {
    "duration": 27,
    "start_time": "2025-07-28T13:53:16.055Z"
   },
   {
    "duration": 186,
    "start_time": "2025-07-28T13:54:29.568Z"
   },
   {
    "duration": 32,
    "start_time": "2025-07-28T13:55:58.252Z"
   },
   {
    "duration": 32,
    "start_time": "2025-07-28T13:56:17.492Z"
   },
   {
    "duration": 32,
    "start_time": "2025-07-28T13:57:22.986Z"
   },
   {
    "duration": 30,
    "start_time": "2025-07-28T13:57:46.489Z"
   },
   {
    "duration": 32,
    "start_time": "2025-07-28T13:57:49.520Z"
   },
   {
    "duration": 31,
    "start_time": "2025-07-28T13:57:52.402Z"
   },
   {
    "duration": 35,
    "start_time": "2025-07-28T13:58:04.885Z"
   },
   {
    "duration": 173,
    "start_time": "2025-07-28T13:58:10.423Z"
   },
   {
    "duration": 168,
    "start_time": "2025-07-28T13:58:25.171Z"
   },
   {
    "duration": 35,
    "start_time": "2025-07-28T13:59:44.522Z"
   },
   {
    "duration": 1131,
    "start_time": "2025-07-28T13:59:51.956Z"
   },
   {
    "duration": 165,
    "start_time": "2025-07-28T14:02:09.163Z"
   },
   {
    "duration": 156,
    "start_time": "2025-07-28T14:02:36.411Z"
   },
   {
    "duration": 171,
    "start_time": "2025-07-28T14:03:24.310Z"
   },
   {
    "duration": 10,
    "start_time": "2025-07-28T14:09:14.436Z"
   },
   {
    "duration": 1728,
    "start_time": "2025-07-28T14:09:27.258Z"
   },
   {
    "duration": 8,
    "start_time": "2025-07-28T14:09:36.059Z"
   },
   {
    "duration": 24,
    "start_time": "2025-07-28T14:09:41.401Z"
   },
   {
    "duration": 24,
    "start_time": "2025-07-28T14:09:47.661Z"
   },
   {
    "duration": 24,
    "start_time": "2025-07-28T14:09:58.846Z"
   },
   {
    "duration": 25,
    "start_time": "2025-07-28T14:10:18.097Z"
   },
   {
    "duration": 23,
    "start_time": "2025-07-28T14:10:28.486Z"
   },
   {
    "duration": 10,
    "start_time": "2025-07-28T14:10:50.323Z"
   },
   {
    "duration": 72,
    "start_time": "2025-07-28T14:11:22.214Z"
   },
   {
    "duration": 10,
    "start_time": "2025-07-28T14:11:27.038Z"
   },
   {
    "duration": 24,
    "start_time": "2025-07-28T14:11:28.800Z"
   },
   {
    "duration": 40,
    "start_time": "2025-07-28T14:11:37.319Z"
   },
   {
    "duration": 15,
    "start_time": "2025-07-28T14:11:39.858Z"
   },
   {
    "duration": 13,
    "start_time": "2025-07-28T14:11:41.836Z"
   },
   {
    "duration": 22,
    "start_time": "2025-07-28T14:11:45.111Z"
   },
   {
    "duration": 102,
    "start_time": "2025-07-28T14:14:04.092Z"
   },
   {
    "duration": 602,
    "start_time": "2025-07-28T14:15:20.099Z"
   },
   {
    "duration": 1106,
    "start_time": "2025-07-29T13:09:27.346Z"
   },
   {
    "duration": 14,
    "start_time": "2025-07-29T13:09:50.202Z"
   },
   {
    "duration": 10,
    "start_time": "2025-07-29T13:10:30.975Z"
   },
   {
    "duration": 16,
    "start_time": "2025-07-29T13:13:17.841Z"
   },
   {
    "duration": 91,
    "start_time": "2025-07-29T13:15:45.622Z"
   },
   {
    "duration": 8,
    "start_time": "2025-07-29T13:15:48.940Z"
   },
   {
    "duration": 5150,
    "start_time": "2025-07-29T13:15:59.403Z"
   },
   {
    "duration": 467,
    "start_time": "2025-07-29T13:16:04.555Z"
   },
   {
    "duration": 726,
    "start_time": "2025-07-29T13:16:05.024Z"
   },
   {
    "duration": 673,
    "start_time": "2025-07-29T13:16:05.752Z"
   },
   {
    "duration": 233,
    "start_time": "2025-07-29T13:16:06.427Z"
   },
   {
    "duration": 771,
    "start_time": "2025-07-29T13:16:06.662Z"
   },
   {
    "duration": 20,
    "start_time": "2025-07-29T13:16:07.435Z"
   },
   {
    "duration": 27,
    "start_time": "2025-07-29T13:16:10.148Z"
   },
   {
    "duration": 14,
    "start_time": "2025-07-29T13:16:18.737Z"
   },
   {
    "duration": 12,
    "start_time": "2025-07-29T13:16:22.615Z"
   },
   {
    "duration": 147,
    "start_time": "2025-07-29T13:18:22.598Z"
   },
   {
    "duration": 178,
    "start_time": "2025-07-29T13:20:26.521Z"
   },
   {
    "duration": 171,
    "start_time": "2025-07-29T13:21:04.022Z"
   },
   {
    "duration": 181,
    "start_time": "2025-07-29T13:21:08.221Z"
   },
   {
    "duration": 174,
    "start_time": "2025-07-29T13:21:33.489Z"
   },
   {
    "duration": 38,
    "start_time": "2025-07-29T13:22:51.610Z"
   },
   {
    "duration": 11,
    "start_time": "2025-07-29T13:23:12.995Z"
   },
   {
    "duration": 12,
    "start_time": "2025-07-29T13:24:21.368Z"
   },
   {
    "duration": 43,
    "start_time": "2025-07-29T13:24:46.552Z"
   },
   {
    "duration": 63,
    "start_time": "2025-07-29T13:24:52.943Z"
   },
   {
    "duration": 67,
    "start_time": "2025-07-29T13:25:09.722Z"
   },
   {
    "duration": 9,
    "start_time": "2025-07-29T13:25:44.420Z"
   },
   {
    "duration": 16,
    "start_time": "2025-07-29T13:26:13.515Z"
   },
   {
    "duration": 10,
    "start_time": "2025-07-29T13:26:21.432Z"
   },
   {
    "duration": 6,
    "start_time": "2025-07-29T13:26:28.806Z"
   },
   {
    "duration": 5,
    "start_time": "2025-07-29T13:26:31.937Z"
   },
   {
    "duration": 14,
    "start_time": "2025-07-29T13:26:38.371Z"
   },
   {
    "duration": 6,
    "start_time": "2025-07-29T13:26:41.607Z"
   },
   {
    "duration": 5,
    "start_time": "2025-07-29T13:26:58.114Z"
   },
   {
    "duration": 6,
    "start_time": "2025-07-29T13:27:06.558Z"
   },
   {
    "duration": 5,
    "start_time": "2025-07-29T13:27:14.670Z"
   },
   {
    "duration": 13,
    "start_time": "2025-07-29T13:28:06.223Z"
   },
   {
    "duration": 9,
    "start_time": "2025-07-29T13:28:10.271Z"
   },
   {
    "duration": 9,
    "start_time": "2025-07-29T13:28:40.172Z"
   },
   {
    "duration": 6,
    "start_time": "2025-07-29T13:31:12.088Z"
   },
   {
    "duration": 6,
    "start_time": "2025-07-29T13:31:20.310Z"
   },
   {
    "duration": 9,
    "start_time": "2025-07-29T13:31:39.358Z"
   },
   {
    "duration": 171,
    "start_time": "2025-07-29T13:32:07.909Z"
   },
   {
    "duration": 15,
    "start_time": "2025-07-29T13:32:19.876Z"
   },
   {
    "duration": 260,
    "start_time": "2025-07-29T13:32:36.393Z"
   },
   {
    "duration": 119,
    "start_time": "2025-07-29T13:33:16.602Z"
   },
   {
    "duration": 1655,
    "start_time": "2025-07-29T13:34:43.792Z"
   },
   {
    "duration": 6,
    "start_time": "2025-07-29T13:35:34.711Z"
   },
   {
    "duration": 6,
    "start_time": "2025-07-29T13:35:43.243Z"
   },
   {
    "duration": 21,
    "start_time": "2025-07-29T13:36:42.720Z"
   },
   {
    "duration": 17,
    "start_time": "2025-07-29T13:36:51.084Z"
   },
   {
    "duration": 7,
    "start_time": "2025-07-29T13:38:22.206Z"
   },
   {
    "duration": 1412,
    "start_time": "2025-07-29T13:40:53.120Z"
   },
   {
    "duration": 6,
    "start_time": "2025-07-29T13:41:01.211Z"
   },
   {
    "duration": 9,
    "start_time": "2025-07-29T13:41:14.969Z"
   },
   {
    "duration": 7,
    "start_time": "2025-07-29T13:42:01.001Z"
   },
   {
    "duration": 8,
    "start_time": "2025-07-29T13:42:05.225Z"
   },
   {
    "duration": 9,
    "start_time": "2025-07-29T13:42:10.780Z"
   },
   {
    "duration": 9,
    "start_time": "2025-07-29T13:42:13.854Z"
   },
   {
    "duration": 9,
    "start_time": "2025-07-29T13:42:24.892Z"
   },
   {
    "duration": 118,
    "start_time": "2025-07-29T13:43:47.079Z"
   },
   {
    "duration": 117,
    "start_time": "2025-07-29T13:44:00.137Z"
   },
   {
    "duration": 127,
    "start_time": "2025-07-29T13:44:10.190Z"
   },
   {
    "duration": 129,
    "start_time": "2025-07-29T13:44:59.703Z"
   },
   {
    "duration": 211,
    "start_time": "2025-07-29T13:45:30.269Z"
   },
   {
    "duration": 226,
    "start_time": "2025-07-29T13:45:40.279Z"
   },
   {
    "duration": 205,
    "start_time": "2025-07-29T13:46:50.043Z"
   },
   {
    "duration": 343,
    "start_time": "2025-07-29T13:48:08.421Z"
   },
   {
    "duration": 243,
    "start_time": "2025-07-29T13:48:33.983Z"
   },
   {
    "duration": 238,
    "start_time": "2025-07-29T13:48:57.490Z"
   },
   {
    "duration": 277,
    "start_time": "2025-07-29T13:49:02.042Z"
   },
   {
    "duration": 295,
    "start_time": "2025-07-29T13:49:09.253Z"
   },
   {
    "duration": 244,
    "start_time": "2025-07-29T13:49:17.343Z"
   },
   {
    "duration": 346,
    "start_time": "2025-07-29T13:49:22.018Z"
   },
   {
    "duration": 250,
    "start_time": "2025-07-29T13:49:26.655Z"
   },
   {
    "duration": 259,
    "start_time": "2025-07-29T13:49:51.699Z"
   },
   {
    "duration": 311,
    "start_time": "2025-07-29T13:50:33.224Z"
   },
   {
    "duration": 216,
    "start_time": "2025-07-29T13:54:38.541Z"
   },
   {
    "duration": 205,
    "start_time": "2025-07-29T13:54:52.235Z"
   },
   {
    "duration": 499,
    "start_time": "2025-07-29T13:55:27.132Z"
   },
   {
    "duration": 187,
    "start_time": "2025-07-29T13:56:57.708Z"
   },
   {
    "duration": 162,
    "start_time": "2025-07-29T13:57:01.785Z"
   },
   {
    "duration": 151,
    "start_time": "2025-07-29T13:57:07.107Z"
   },
   {
    "duration": 190,
    "start_time": "2025-07-29T13:57:27.760Z"
   },
   {
    "duration": 215,
    "start_time": "2025-07-29T13:57:53.290Z"
   },
   {
    "duration": 71,
    "start_time": "2025-07-29T14:14:11.374Z"
   },
   {
    "duration": 288,
    "start_time": "2025-07-29T14:15:15.667Z"
   },
   {
    "duration": 278,
    "start_time": "2025-07-29T14:15:33.675Z"
   },
   {
    "duration": 384,
    "start_time": "2025-07-29T14:15:55.976Z"
   },
   {
    "duration": 224,
    "start_time": "2025-07-29T14:16:49.498Z"
   },
   {
    "duration": 214,
    "start_time": "2025-07-29T14:16:55.559Z"
   },
   {
    "duration": 532,
    "start_time": "2025-07-29T14:23:38.314Z"
   },
   {
    "duration": 21,
    "start_time": "2025-07-29T14:24:30.234Z"
   },
   {
    "duration": 24,
    "start_time": "2025-07-29T14:24:43.922Z"
   },
   {
    "duration": 27,
    "start_time": "2025-07-29T14:24:48.968Z"
   },
   {
    "duration": 43,
    "start_time": "2025-07-29T14:26:32.702Z"
   },
   {
    "duration": 62,
    "start_time": "2025-07-29T14:26:34.857Z"
   },
   {
    "duration": 35,
    "start_time": "2025-07-29T14:32:11.912Z"
   },
   {
    "duration": 41,
    "start_time": "2025-07-29T14:32:51.282Z"
   },
   {
    "duration": 2299,
    "start_time": "2025-07-29T14:32:58.113Z"
   },
   {
    "duration": 51,
    "start_time": "2025-07-29T14:33:04.171Z"
   },
   {
    "duration": 64,
    "start_time": "2025-07-29T14:34:24.007Z"
   },
   {
    "duration": 159,
    "start_time": "2025-07-29T14:37:16.571Z"
   },
   {
    "duration": 59,
    "start_time": "2025-07-29T14:37:29.599Z"
   },
   {
    "duration": 80,
    "start_time": "2025-07-29T14:39:02.002Z"
   },
   {
    "duration": 289,
    "start_time": "2025-07-29T14:43:31.305Z"
   },
   {
    "duration": 304,
    "start_time": "2025-07-29T14:44:19.644Z"
   },
   {
    "duration": 307,
    "start_time": "2025-07-29T14:45:20.202Z"
   },
   {
    "duration": 344,
    "start_time": "2025-07-29T14:46:29.397Z"
   },
   {
    "duration": 310,
    "start_time": "2025-07-29T14:48:02.013Z"
   },
   {
    "duration": 308,
    "start_time": "2025-07-29T14:48:22.921Z"
   },
   {
    "duration": 4,
    "start_time": "2025-07-29T14:52:30.021Z"
   },
   {
    "duration": 11,
    "start_time": "2025-07-29T14:53:54.500Z"
   },
   {
    "duration": 5,
    "start_time": "2025-07-29T14:54:27.113Z"
   },
   {
    "duration": 5,
    "start_time": "2025-07-29T14:54:52.909Z"
   },
   {
    "duration": 316,
    "start_time": "2025-07-29T15:35:02.436Z"
   },
   {
    "duration": 3068,
    "start_time": "2025-07-29T15:53:13.478Z"
   },
   {
    "duration": 342,
    "start_time": "2025-07-29T15:53:16.547Z"
   },
   {
    "duration": 1123,
    "start_time": "2025-07-29T15:53:16.890Z"
   },
   {
    "duration": 1129,
    "start_time": "2025-07-29T15:53:18.015Z"
   },
   {
    "duration": 195,
    "start_time": "2025-07-29T15:53:19.146Z"
   },
   {
    "duration": 640,
    "start_time": "2025-07-29T15:53:19.343Z"
   },
   {
    "duration": 44,
    "start_time": "2025-07-29T15:53:19.984Z"
   },
   {
    "duration": 166,
    "start_time": "2025-07-29T15:53:20.029Z"
   },
   {
    "duration": 60,
    "start_time": "2025-07-29T15:53:20.197Z"
   },
   {
    "duration": 5,
    "start_time": "2025-07-29T15:53:20.259Z"
   },
   {
    "duration": 124,
    "start_time": "2025-07-29T15:53:20.266Z"
   },
   {
    "duration": 32,
    "start_time": "2025-07-29T15:53:20.391Z"
   },
   {
    "duration": 316,
    "start_time": "2025-07-29T15:53:20.428Z"
   },
   {
    "duration": 212,
    "start_time": "2025-07-29T15:53:20.747Z"
   },
   {
    "duration": 314,
    "start_time": "2025-07-29T15:53:20.961Z"
   },
   {
    "duration": 155,
    "start_time": "2025-07-29T15:53:21.276Z"
   },
   {
    "duration": 543,
    "start_time": "2025-07-29T15:53:21.432Z"
   },
   {
    "duration": 13,
    "start_time": "2025-07-29T15:53:21.976Z"
   },
   {
    "duration": 59,
    "start_time": "2025-07-29T15:53:21.998Z"
   },
   {
    "duration": 297,
    "start_time": "2025-07-29T15:53:22.059Z"
   },
   {
    "duration": 5,
    "start_time": "2025-07-29T15:53:22.357Z"
   },
   {
    "duration": 58,
    "start_time": "2025-07-30T09:58:57.371Z"
   },
   {
    "duration": 3388,
    "start_time": "2025-07-30T09:59:07.323Z"
   },
   {
    "duration": 349,
    "start_time": "2025-07-30T09:59:10.714Z"
   },
   {
    "duration": 630,
    "start_time": "2025-07-30T09:59:11.065Z"
   },
   {
    "duration": 530,
    "start_time": "2025-07-30T09:59:11.697Z"
   },
   {
    "duration": 204,
    "start_time": "2025-07-30T09:59:12.229Z"
   },
   {
    "duration": 626,
    "start_time": "2025-07-30T09:59:13.834Z"
   },
   {
    "duration": 26,
    "start_time": "2025-07-30T09:59:16.715Z"
   },
   {
    "duration": 154,
    "start_time": "2025-07-30T09:59:18.220Z"
   },
   {
    "duration": 77,
    "start_time": "2025-07-30T10:00:14.406Z"
   },
   {
    "duration": 48,
    "start_time": "2025-07-30T10:00:19.686Z"
   },
   {
    "duration": 7,
    "start_time": "2025-07-30T10:00:20.426Z"
   },
   {
    "duration": 125,
    "start_time": "2025-07-30T10:00:20.993Z"
   },
   {
    "duration": 17,
    "start_time": "2025-07-30T10:00:32.401Z"
   },
   {
    "duration": 393,
    "start_time": "2025-07-30T10:00:36.897Z"
   },
   {
    "duration": 147,
    "start_time": "2025-07-30T10:00:41.306Z"
   },
   {
    "duration": 157,
    "start_time": "2025-07-30T10:00:46.658Z"
   },
   {
    "duration": 159,
    "start_time": "2025-07-30T10:01:40.794Z"
   },
   {
    "duration": 326,
    "start_time": "2025-07-30T10:03:17.071Z"
   },
   {
    "duration": 54,
    "start_time": "2025-07-30T11:35:56.575Z"
   },
   {
    "duration": 3382,
    "start_time": "2025-07-30T11:36:08.157Z"
   },
   {
    "duration": 328,
    "start_time": "2025-07-30T11:36:11.541Z"
   },
   {
    "duration": 622,
    "start_time": "2025-07-30T11:36:11.871Z"
   },
   {
    "duration": 551,
    "start_time": "2025-07-30T11:36:12.496Z"
   },
   {
    "duration": 192,
    "start_time": "2025-07-30T11:36:13.049Z"
   },
   {
    "duration": 644,
    "start_time": "2025-07-30T11:36:13.242Z"
   },
   {
    "duration": 23,
    "start_time": "2025-07-30T11:36:13.887Z"
   },
   {
    "duration": 187,
    "start_time": "2025-07-30T11:36:13.912Z"
   },
   {
    "duration": 49,
    "start_time": "2025-07-30T11:36:14.558Z"
   },
   {
    "duration": 7,
    "start_time": "2025-07-30T11:36:14.791Z"
   },
   {
    "duration": 118,
    "start_time": "2025-07-30T11:36:15.081Z"
   },
   {
    "duration": 15,
    "start_time": "2025-07-30T11:36:16.657Z"
   },
   {
    "duration": 73,
    "start_time": "2025-07-30T11:36:17.897Z"
   },
   {
    "duration": 12,
    "start_time": "2025-07-30T11:36:18.285Z"
   },
   {
    "duration": 19,
    "start_time": "2025-07-30T11:36:27.044Z"
   },
   {
    "duration": 411,
    "start_time": "2025-07-30T11:37:06.245Z"
   },
   {
    "duration": 352,
    "start_time": "2025-07-30T11:37:38.717Z"
   },
   {
    "duration": 331,
    "start_time": "2025-07-30T11:37:44.814Z"
   },
   {
    "duration": 314,
    "start_time": "2025-07-30T11:38:42.136Z"
   },
   {
    "duration": 324,
    "start_time": "2025-07-30T11:38:53.158Z"
   },
   {
    "duration": 406,
    "start_time": "2025-07-30T11:39:11.010Z"
   },
   {
    "duration": 150,
    "start_time": "2025-07-30T11:39:42.879Z"
   },
   {
    "duration": 289,
    "start_time": "2025-07-30T11:40:39.602Z"
   },
   {
    "duration": 152,
    "start_time": "2025-07-30T11:40:49.654Z"
   },
   {
    "duration": 1597,
    "start_time": "2025-07-30T11:43:29.996Z"
   },
   {
    "duration": 346,
    "start_time": "2025-07-30T11:43:37.896Z"
   },
   {
    "duration": 157,
    "start_time": "2025-07-30T11:43:38.880Z"
   },
   {
    "duration": 670,
    "start_time": "2025-07-30T11:43:40.945Z"
   },
   {
    "duration": 15,
    "start_time": "2025-07-30T11:43:41.618Z"
   },
   {
    "duration": 45,
    "start_time": "2025-07-30T11:43:42.194Z"
   },
   {
    "duration": 270,
    "start_time": "2025-07-30T11:43:43.353Z"
   },
   {
    "duration": 280,
    "start_time": "2025-07-30T11:43:54.335Z"
   },
   {
    "duration": 267,
    "start_time": "2025-07-30T11:44:03.527Z"
   },
   {
    "duration": 362,
    "start_time": "2025-07-30T11:44:35.841Z"
   },
   {
    "duration": 270,
    "start_time": "2025-07-30T11:44:58.469Z"
   },
   {
    "duration": 264,
    "start_time": "2025-07-30T11:45:39.613Z"
   },
   {
    "duration": 3,
    "start_time": "2025-07-30T11:46:09.632Z"
   },
   {
    "duration": 4,
    "start_time": "2025-07-30T11:46:48.969Z"
   },
   {
    "duration": 5,
    "start_time": "2025-07-30T11:47:28.862Z"
   },
   {
    "duration": 4,
    "start_time": "2025-07-30T11:47:47.062Z"
   },
   {
    "duration": 8,
    "start_time": "2025-07-30T11:48:07.824Z"
   },
   {
    "duration": 13,
    "start_time": "2025-07-30T11:48:20.672Z"
   },
   {
    "duration": 14,
    "start_time": "2025-07-30T11:48:28.601Z"
   },
   {
    "duration": 20,
    "start_time": "2025-07-30T11:49:45.780Z"
   },
   {
    "duration": 14,
    "start_time": "2025-07-30T11:49:52.397Z"
   },
   {
    "duration": 16,
    "start_time": "2025-07-30T11:50:03.966Z"
   },
   {
    "duration": 21,
    "start_time": "2025-07-30T11:52:02.468Z"
   },
   {
    "duration": 14,
    "start_time": "2025-07-30T11:52:18.911Z"
   },
   {
    "duration": 15,
    "start_time": "2025-07-30T11:52:24.926Z"
   },
   {
    "duration": 21,
    "start_time": "2025-07-30T11:52:44.690Z"
   },
   {
    "duration": 19,
    "start_time": "2025-07-30T11:52:47.581Z"
   },
   {
    "duration": 20,
    "start_time": "2025-07-30T11:52:56.976Z"
   },
   {
    "duration": 14,
    "start_time": "2025-07-30T11:53:23.738Z"
   },
   {
    "duration": 15,
    "start_time": "2025-07-30T11:53:30.062Z"
   },
   {
    "duration": 14,
    "start_time": "2025-07-30T11:53:36.315Z"
   },
   {
    "duration": 14,
    "start_time": "2025-07-30T11:53:44.553Z"
   },
   {
    "duration": 14,
    "start_time": "2025-07-30T11:54:24.535Z"
   },
   {
    "duration": 15,
    "start_time": "2025-07-30T11:54:38.441Z"
   },
   {
    "duration": 14,
    "start_time": "2025-07-30T11:56:16.918Z"
   },
   {
    "duration": 21,
    "start_time": "2025-07-30T11:57:16.781Z"
   },
   {
    "duration": 15,
    "start_time": "2025-07-30T11:57:23.363Z"
   },
   {
    "duration": 15,
    "start_time": "2025-07-30T11:57:28.463Z"
   },
   {
    "duration": 37,
    "start_time": "2025-07-30T11:58:06.864Z"
   },
   {
    "duration": 36,
    "start_time": "2025-07-30T11:58:12.509Z"
   },
   {
    "duration": 35,
    "start_time": "2025-07-30T11:59:08.908Z"
   },
   {
    "duration": 35,
    "start_time": "2025-07-30T11:59:17.033Z"
   },
   {
    "duration": 82,
    "start_time": "2025-07-30T11:59:44.427Z"
   },
   {
    "duration": 48,
    "start_time": "2025-07-30T11:59:54.041Z"
   },
   {
    "duration": 38,
    "start_time": "2025-07-30T12:00:30.529Z"
   },
   {
    "duration": 4,
    "start_time": "2025-07-30T12:01:06.220Z"
   },
   {
    "duration": 36,
    "start_time": "2025-07-30T12:01:16.089Z"
   },
   {
    "duration": 35,
    "start_time": "2025-07-30T12:01:22.123Z"
   },
   {
    "duration": 36,
    "start_time": "2025-07-30T12:01:25.402Z"
   },
   {
    "duration": 7,
    "start_time": "2025-07-30T12:01:30.665Z"
   },
   {
    "duration": 52,
    "start_time": "2025-07-30T12:01:56.942Z"
   },
   {
    "duration": 281,
    "start_time": "2025-07-30T12:01:59.675Z"
   },
   {
    "duration": 37,
    "start_time": "2025-07-30T12:02:01.524Z"
   },
   {
    "duration": 6,
    "start_time": "2025-07-30T12:02:05.537Z"
   },
   {
    "duration": 4,
    "start_time": "2025-07-30T12:02:39.870Z"
   },
   {
    "duration": 38,
    "start_time": "2025-07-30T12:08:20.255Z"
   },
   {
    "duration": 12,
    "start_time": "2025-07-30T12:09:14.392Z"
   },
   {
    "duration": 25,
    "start_time": "2025-07-30T12:09:33.093Z"
   },
   {
    "duration": 35,
    "start_time": "2025-07-30T12:09:39.308Z"
   },
   {
    "duration": 12,
    "start_time": "2025-07-30T12:09:46.472Z"
   },
   {
    "duration": 13,
    "start_time": "2025-07-30T12:09:56.978Z"
   },
   {
    "duration": 14,
    "start_time": "2025-07-30T12:10:04.731Z"
   },
   {
    "duration": 5,
    "start_time": "2025-07-30T12:11:07.516Z"
   },
   {
    "duration": 5,
    "start_time": "2025-07-30T12:12:01.076Z"
   },
   {
    "duration": 5,
    "start_time": "2025-07-30T12:12:36.570Z"
   },
   {
    "duration": 10,
    "start_time": "2025-07-30T12:14:49.928Z"
   },
   {
    "duration": 1918,
    "start_time": "2025-07-30T12:15:17.358Z"
   },
   {
    "duration": 5,
    "start_time": "2025-07-30T12:15:22.446Z"
   },
   {
    "duration": 3417,
    "start_time": "2025-07-30T19:32:10.926Z"
   },
   {
    "duration": 441,
    "start_time": "2025-07-30T19:32:14.345Z"
   },
   {
    "duration": 672,
    "start_time": "2025-07-30T19:32:14.788Z"
   },
   {
    "duration": 590,
    "start_time": "2025-07-30T19:32:15.462Z"
   },
   {
    "duration": 207,
    "start_time": "2025-07-30T19:32:16.054Z"
   },
   {
    "duration": 1352,
    "start_time": "2025-07-30T19:32:16.263Z"
   },
   {
    "duration": 16,
    "start_time": "2025-07-30T19:32:17.617Z"
   },
   {
    "duration": 350,
    "start_time": "2025-07-30T19:32:17.634Z"
   },
   {
    "duration": 92,
    "start_time": "2025-07-30T19:32:17.986Z"
   },
   {
    "duration": 6,
    "start_time": "2025-07-30T19:32:18.081Z"
   },
   {
    "duration": 143,
    "start_time": "2025-07-30T19:32:18.089Z"
   },
   {
    "duration": 14,
    "start_time": "2025-07-30T19:32:18.234Z"
   },
   {
    "duration": 338,
    "start_time": "2025-07-30T19:32:18.250Z"
   },
   {
    "duration": 253,
    "start_time": "2025-07-30T19:32:18.590Z"
   },
   {
    "duration": 315,
    "start_time": "2025-07-30T19:32:18.844Z"
   },
   {
    "duration": 152,
    "start_time": "2025-07-30T19:32:19.161Z"
   },
   {
    "duration": 595,
    "start_time": "2025-07-30T19:32:19.315Z"
   },
   {
    "duration": 16,
    "start_time": "2025-07-30T19:32:19.912Z"
   },
   {
    "duration": 53,
    "start_time": "2025-07-30T19:32:19.930Z"
   },
   {
    "duration": 303,
    "start_time": "2025-07-30T19:32:19.984Z"
   },
   {
    "duration": 17,
    "start_time": "2025-07-30T19:32:20.288Z"
   },
   {
    "duration": 23,
    "start_time": "2025-07-30T19:32:20.307Z"
   },
   {
    "duration": 131,
    "start_time": "2025-07-30T19:32:20.332Z"
   }
  ],
  "colab": {
   "provenance": []
  },
  "kernelspec": {
   "display_name": "Python 3 (ipykernel)",
   "language": "python",
   "name": "python3"
  },
  "language_info": {
   "codemirror_mode": {
    "name": "ipython",
    "version": 3
   },
   "file_extension": ".py",
   "mimetype": "text/x-python",
   "name": "python",
   "nbconvert_exporter": "python",
   "pygments_lexer": "ipython3",
   "version": "3.9.5"
  },
  "toc": {
   "base_numbering": 1,
   "nav_menu": {},
   "number_sections": true,
   "sideBar": true,
   "skip_h1_title": true,
   "title_cell": "Table of Contents",
   "title_sidebar": "Contents",
   "toc_cell": false,
   "toc_position": {},
   "toc_section_display": true,
   "toc_window_display": true
  }
 },
 "nbformat": 4,
 "nbformat_minor": 1
}
